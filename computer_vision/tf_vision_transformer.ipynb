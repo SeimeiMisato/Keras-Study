{
 "metadata": {
  "language_info": {
   "codemirror_mode": {
    "name": "ipython",
    "version": 3
   },
   "file_extension": ".py",
   "mimetype": "text/x-python",
   "name": "python",
   "nbconvert_exporter": "python",
   "pygments_lexer": "ipython3",
   "version": "3.6.8-final"
  },
  "orig_nbformat": 2,
  "kernelspec": {
   "name": "python3",
   "display_name": "Python 3.6.8 64-bit ('tf-gpu-2.0': conda)",
   "metadata": {
    "interpreter": {
     "hash": "c348a0ede3327477b81c1864131eed10368f31f64e9af0e95acc69bb4e2c8459"
    }
   }
  }
 },
 "nbformat": 4,
 "nbformat_minor": 2,
 "cells": [
  {
   "cell_type": "code",
   "execution_count": 5,
   "metadata": {},
   "outputs": [],
   "source": [
    "import tensorflow as tf\n",
    "from tensorflow.keras.layers import Dense, Dropout, LayerNormalization, Add, Activation, Input\n",
    "from tensorflow.keras.layers.experimental.preprocessing import Rescaling\n",
    "from tensorflow.keras.models import Model\n",
    "from tensorflow.keras import backend as K\n",
    "from tensorflow.keras.datasets import cifar10\n",
    "from tensorflow.keras.utils import to_categorical"
   ]
  },
  {
   "cell_type": "code",
   "execution_count": 6,
   "metadata": {},
   "outputs": [],
   "source": [
    "def MultiHead_SelfAttention(inputs, embed_dim, num_heads):\n",
    "    projection_dim = embed_dim // num_heads\n",
    "    batch_size = K.int_shape(inputs)[0]\n",
    "\n",
    "    query = Dense(embed_dim)(inputs)\n",
    "    key   = Dense(embed_dim)(inputs)\n",
    "    value = Dense(embed_dim)(inputs)\n",
    "\n",
    "    query = K.reshape(query, (batch_size, -1, num_heads, projection_dim))\n",
    "    key   = K.reshape(key,   (batch_size, -1, num_heads, projection_dim))\n",
    "    value = K.reshape(value, (batch_size, -1, num_heads, projection_dim))\n",
    "\n",
    "    query = K.permute_dimensions(query, (0, 2, 1, 3))\n",
    "    key   = K.permute_dimensions(key,   (0, 2, 1, 3))\n",
    "    value = K.permute_dimensions(value, (0, 2, 1, 3))\n",
    "\n",
    "    score = tf.matmul(query, key, transpose_b=True)\n",
    "    score = score/K.sqrt(K.cast(projection_dim, 'float32'))\n",
    "    weights = Activation('softmax')(score)\n",
    "\n",
    "    attention = tf.matmul(weights, value)\n",
    "    attention = K.permute_dimensions(attention, (0, 2, 1, 3))\n",
    "    attention = K.reshape(attention, (batch_size, -1, embed_dim))\n",
    "    output = Dense(embed_dim)(attention)\n",
    "    return output"
   ]
  },
  {
   "cell_type": "code",
   "execution_count": 7,
   "metadata": {},
   "outputs": [],
   "source": [
    "def TransformerBlock(inputs, embed_dim, num_heads, ff_dim):\n",
    "    attn_output = MultiHead_SelfAttention(inputs, embed_dim, num_heads)\n",
    "    attn_output = Dropout(0.1)(attn_output)\n",
    "    out1 = LayerNormalization(epsilon=1e-6)(Add()([inputs, attn_output]))\n",
    "    ffn_output = Dense(ff_dim, activation=\"relu\")(out1)\n",
    "    ffn_output = Dense(embed_dim)(ffn_output)\n",
    "    ffn_output = Dropout(0.1)(ffn_output)\n",
    "    return LayerNormalization(epsilon=1e-6)(Add()([out1, ffn_output]))"
   ]
  },
  {
   "cell_type": "code",
   "execution_count": 8,
   "metadata": {},
   "outputs": [],
   "source": [
    "class Add_Embedding_Layer(tf.keras.layers.Layer):\n",
    "    def __init__(self, num_patches=64, d_model=64, batch_size=16):\n",
    "        super(Add_Embedding_Layer, self).__init__()\n",
    "        self.batch_size = batch_size\n",
    "        self.patch_emb = self.add_weight(shape=[1, 1, d_model], dtype=tf.float32)\n",
    "        self.pos_emb = self.add_weight(shape=[1, num_patches+1, d_model], dtype=tf.float32)\n",
    "\n",
    "    def call(self, input):\n",
    "        patch_emb = K.repeat_elements(self.patch_emb, self.batch_size, axis=0)\n",
    "        pos_emb = K.repeat_elements(self.pos_emb, self.batch_size, axis=0)\n",
    "        return K.concatenate([input, patch_emb], axis=1) + pos_emb"
   ]
  },
  {
   "cell_type": "code",
   "execution_count": 10,
   "metadata": {
    "tags": [
     "outputPrepend"
    ]
   },
   "outputs": [
    {
     "output_type": "stream",
     "name": "stdout",
     "text": [
      "embedding__layer_1[0][0]    \n__________________________________________________________________________________________________\ntf_op_layer_RealDiv_4 (TensorFl [(400, 4, 65, 65)]   0           tf_op_layer_BatchMatMulV2_8[0][0]\n__________________________________________________________________________________________________\ntf_op_layer_Reshape_20 (TensorF [(400, 65, 4, 16)]   0           dense_28[0][0]                   \n__________________________________________________________________________________________________\nactivation_4 (Activation)       (400, 4, 65, 65)     0           tf_op_layer_RealDiv_4[0][0]      \n__________________________________________________________________________________________________\ntf_op_layer_Transpose_18 (Tenso [(400, 4, 65, 16)]   0           tf_op_layer_Reshape_20[0][0]     \n__________________________________________________________________________________________________\ntf_op_layer_BatchMatMulV2_9 (Te [(400, 4, 65, 16)]   0           activation_4[0][0]               \n                                                                 tf_op_layer_Transpose_18[0][0]   \n__________________________________________________________________________________________________\ntf_op_layer_Transpose_19 (Tenso [(400, 65, 4, 16)]   0           tf_op_layer_BatchMatMulV2_9[0][0]\n__________________________________________________________________________________________________\ntf_op_layer_Reshape_21 (TensorF [(400, 65, 64)]      0           tf_op_layer_Transpose_19[0][0]   \n__________________________________________________________________________________________________\ndense_29 (Dense)                (400, 65, 64)        4160        tf_op_layer_Reshape_21[0][0]     \n__________________________________________________________________________________________________\ndropout_8 (Dropout)             (400, 65, 64)        0           dense_29[0][0]                   \n__________________________________________________________________________________________________\nadd_8 (Add)                     (400, 65, 64)        0           add__embedding__layer_1[0][0]    \n                                                                 dropout_8[0][0]                  \n__________________________________________________________________________________________________\nlayer_normalization_8 (LayerNor (400, 65, 64)        128         add_8[0][0]                      \n__________________________________________________________________________________________________\ndense_30 (Dense)                (400, 65, 128)       8320        layer_normalization_8[0][0]      \n__________________________________________________________________________________________________\ndense_31 (Dense)                (400, 65, 64)        8256        dense_30[0][0]                   \n__________________________________________________________________________________________________\ndropout_9 (Dropout)             (400, 65, 64)        0           dense_31[0][0]                   \n__________________________________________________________________________________________________\nadd_9 (Add)                     (400, 65, 64)        0           layer_normalization_8[0][0]      \n                                                                 dropout_9[0][0]                  \n__________________________________________________________________________________________________\nlayer_normalization_9 (LayerNor (400, 65, 64)        128         add_9[0][0]                      \n__________________________________________________________________________________________________\ndense_32 (Dense)                (400, 65, 64)        4160        layer_normalization_9[0][0]      \n__________________________________________________________________________________________________\ndense_33 (Dense)                (400, 65, 64)        4160        layer_normalization_9[0][0]      \n__________________________________________________________________________________________________\ntf_op_layer_Reshape_22 (TensorF [(400, 65, 4, 16)]   0           dense_32[0][0]                   \n__________________________________________________________________________________________________\ntf_op_layer_Reshape_23 (TensorF [(400, 65, 4, 16)]   0           dense_33[0][0]                   \n__________________________________________________________________________________________________\ntf_op_layer_Transpose_20 (Tenso [(400, 4, 65, 16)]   0           tf_op_layer_Reshape_22[0][0]     \n__________________________________________________________________________________________________\ntf_op_layer_Transpose_21 (Tenso [(400, 4, 65, 16)]   0           tf_op_layer_Reshape_23[0][0]     \n__________________________________________________________________________________________________\ntf_op_layer_BatchMatMulV2_10 (T [(400, 4, 65, 65)]   0           tf_op_layer_Transpose_20[0][0]   \n                                                                 tf_op_layer_Transpose_21[0][0]   \n__________________________________________________________________________________________________\ndense_34 (Dense)                (400, 65, 64)        4160        layer_normalization_9[0][0]      \n__________________________________________________________________________________________________\ntf_op_layer_RealDiv_5 (TensorFl [(400, 4, 65, 65)]   0           tf_op_layer_BatchMatMulV2_10[0][0\n__________________________________________________________________________________________________\ntf_op_layer_Reshape_24 (TensorF [(400, 65, 4, 16)]   0           dense_34[0][0]                   \n__________________________________________________________________________________________________\nactivation_5 (Activation)       (400, 4, 65, 65)     0           tf_op_layer_RealDiv_5[0][0]      \n__________________________________________________________________________________________________\ntf_op_layer_Transpose_22 (Tenso [(400, 4, 65, 16)]   0           tf_op_layer_Reshape_24[0][0]     \n__________________________________________________________________________________________________\ntf_op_layer_BatchMatMulV2_11 (T [(400, 4, 65, 16)]   0           activation_5[0][0]               \n                                                                 tf_op_layer_Transpose_22[0][0]   \n__________________________________________________________________________________________________\ntf_op_layer_Transpose_23 (Tenso [(400, 65, 4, 16)]   0           tf_op_layer_BatchMatMulV2_11[0][0\n__________________________________________________________________________________________________\ntf_op_layer_Reshape_25 (TensorF [(400, 65, 64)]      0           tf_op_layer_Transpose_23[0][0]   \n__________________________________________________________________________________________________\ndense_35 (Dense)                (400, 65, 64)        4160        tf_op_layer_Reshape_25[0][0]     \n__________________________________________________________________________________________________\ndropout_10 (Dropout)            (400, 65, 64)        0           dense_35[0][0]                   \n__________________________________________________________________________________________________\nadd_10 (Add)                    (400, 65, 64)        0           layer_normalization_9[0][0]      \n                                                                 dropout_10[0][0]                 \n__________________________________________________________________________________________________\nlayer_normalization_10 (LayerNo (400, 65, 64)        128         add_10[0][0]                     \n__________________________________________________________________________________________________\ndense_36 (Dense)                (400, 65, 128)       8320        layer_normalization_10[0][0]     \n__________________________________________________________________________________________________\ndense_37 (Dense)                (400, 65, 64)        8256        dense_36[0][0]                   \n__________________________________________________________________________________________________\ndropout_11 (Dropout)            (400, 65, 64)        0           dense_37[0][0]                   \n__________________________________________________________________________________________________\nadd_11 (Add)                    (400, 65, 64)        0           layer_normalization_10[0][0]     \n                                                                 dropout_11[0][0]                 \n__________________________________________________________________________________________________\nlayer_normalization_11 (LayerNo (400, 65, 64)        128         add_11[0][0]                     \n__________________________________________________________________________________________________\ndense_38 (Dense)                (400, 65, 64)        4160        layer_normalization_11[0][0]     \n__________________________________________________________________________________________________\ndense_39 (Dense)                (400, 65, 64)        4160        layer_normalization_11[0][0]     \n__________________________________________________________________________________________________\ntf_op_layer_Reshape_26 (TensorF [(400, 65, 4, 16)]   0           dense_38[0][0]                   \n__________________________________________________________________________________________________\ntf_op_layer_Reshape_27 (TensorF [(400, 65, 4, 16)]   0           dense_39[0][0]                   \n__________________________________________________________________________________________________\ntf_op_layer_Transpose_24 (Tenso [(400, 4, 65, 16)]   0           tf_op_layer_Reshape_26[0][0]     \n__________________________________________________________________________________________________\ntf_op_layer_Transpose_25 (Tenso [(400, 4, 65, 16)]   0           tf_op_layer_Reshape_27[0][0]     \n__________________________________________________________________________________________________\ntf_op_layer_BatchMatMulV2_12 (T [(400, 4, 65, 65)]   0           tf_op_layer_Transpose_24[0][0]   \n                                                                 tf_op_layer_Transpose_25[0][0]   \n__________________________________________________________________________________________________\ndense_40 (Dense)                (400, 65, 64)        4160        layer_normalization_11[0][0]     \n__________________________________________________________________________________________________\ntf_op_layer_RealDiv_6 (TensorFl [(400, 4, 65, 65)]   0           tf_op_layer_BatchMatMulV2_12[0][0\n__________________________________________________________________________________________________\ntf_op_layer_Reshape_28 (TensorF [(400, 65, 4, 16)]   0           dense_40[0][0]                   \n__________________________________________________________________________________________________\nactivation_6 (Activation)       (400, 4, 65, 65)     0           tf_op_layer_RealDiv_6[0][0]      \n__________________________________________________________________________________________________\ntf_op_layer_Transpose_26 (Tenso [(400, 4, 65, 16)]   0           tf_op_layer_Reshape_28[0][0]     \n__________________________________________________________________________________________________\ntf_op_layer_BatchMatMulV2_13 (T [(400, 4, 65, 16)]   0           activation_6[0][0]               \n                                                                 tf_op_layer_Transpose_26[0][0]   \n__________________________________________________________________________________________________\ntf_op_layer_Transpose_27 (Tenso [(400, 65, 4, 16)]   0           tf_op_layer_BatchMatMulV2_13[0][0\n__________________________________________________________________________________________________\ntf_op_layer_Reshape_29 (TensorF [(400, 65, 64)]      0           tf_op_layer_Transpose_27[0][0]   \n__________________________________________________________________________________________________\ndense_41 (Dense)                (400, 65, 64)        4160        tf_op_layer_Reshape_29[0][0]     \n__________________________________________________________________________________________________\ndropout_12 (Dropout)            (400, 65, 64)        0           dense_41[0][0]                   \n__________________________________________________________________________________________________\nadd_12 (Add)                    (400, 65, 64)        0           layer_normalization_11[0][0]     \n                                                                 dropout_12[0][0]                 \n__________________________________________________________________________________________________\nlayer_normalization_12 (LayerNo (400, 65, 64)        128         add_12[0][0]                     \n__________________________________________________________________________________________________\ndense_42 (Dense)                (400, 65, 128)       8320        layer_normalization_12[0][0]     \n__________________________________________________________________________________________________\ndense_43 (Dense)                (400, 65, 64)        8256        dense_42[0][0]                   \n__________________________________________________________________________________________________\ndropout_13 (Dropout)            (400, 65, 64)        0           dense_43[0][0]                   \n__________________________________________________________________________________________________\nadd_13 (Add)                    (400, 65, 64)        0           layer_normalization_12[0][0]     \n                                                                 dropout_13[0][0]                 \n__________________________________________________________________________________________________\nlayer_normalization_13 (LayerNo (400, 65, 64)        128         add_13[0][0]                     \n__________________________________________________________________________________________________\ndense_44 (Dense)                (400, 65, 64)        4160        layer_normalization_13[0][0]     \n__________________________________________________________________________________________________\ndense_45 (Dense)                (400, 65, 64)        4160        layer_normalization_13[0][0]     \n__________________________________________________________________________________________________\ntf_op_layer_Reshape_30 (TensorF [(400, 65, 4, 16)]   0           dense_44[0][0]                   \n__________________________________________________________________________________________________\ntf_op_layer_Reshape_31 (TensorF [(400, 65, 4, 16)]   0           dense_45[0][0]                   \n__________________________________________________________________________________________________\ntf_op_layer_Transpose_28 (Tenso [(400, 4, 65, 16)]   0           tf_op_layer_Reshape_30[0][0]     \n__________________________________________________________________________________________________\ntf_op_layer_Transpose_29 (Tenso [(400, 4, 65, 16)]   0           tf_op_layer_Reshape_31[0][0]     \n__________________________________________________________________________________________________\ntf_op_layer_BatchMatMulV2_14 (T [(400, 4, 65, 65)]   0           tf_op_layer_Transpose_28[0][0]   \n                                                                 tf_op_layer_Transpose_29[0][0]   \n__________________________________________________________________________________________________\ndense_46 (Dense)                (400, 65, 64)        4160        layer_normalization_13[0][0]     \n__________________________________________________________________________________________________\ntf_op_layer_RealDiv_7 (TensorFl [(400, 4, 65, 65)]   0           tf_op_layer_BatchMatMulV2_14[0][0\n__________________________________________________________________________________________________\ntf_op_layer_Reshape_32 (TensorF [(400, 65, 4, 16)]   0           dense_46[0][0]                   \n__________________________________________________________________________________________________\nactivation_7 (Activation)       (400, 4, 65, 65)     0           tf_op_layer_RealDiv_7[0][0]      \n__________________________________________________________________________________________________\ntf_op_layer_Transpose_30 (Tenso [(400, 4, 65, 16)]   0           tf_op_layer_Reshape_32[0][0]     \n__________________________________________________________________________________________________\ntf_op_layer_BatchMatMulV2_15 (T [(400, 4, 65, 16)]   0           activation_7[0][0]               \n                                                                 tf_op_layer_Transpose_30[0][0]   \n__________________________________________________________________________________________________\ntf_op_layer_Transpose_31 (Tenso [(400, 65, 4, 16)]   0           tf_op_layer_BatchMatMulV2_15[0][0\n__________________________________________________________________________________________________\ntf_op_layer_Reshape_33 (TensorF [(400, 65, 64)]      0           tf_op_layer_Transpose_31[0][0]   \n__________________________________________________________________________________________________\ndense_47 (Dense)                (400, 65, 64)        4160        tf_op_layer_Reshape_33[0][0]     \n__________________________________________________________________________________________________\ndropout_14 (Dropout)            (400, 65, 64)        0           dense_47[0][0]                   \n__________________________________________________________________________________________________\nadd_14 (Add)                    (400, 65, 64)        0           layer_normalization_13[0][0]     \n                                                                 dropout_14[0][0]                 \n__________________________________________________________________________________________________\nlayer_normalization_14 (LayerNo (400, 65, 64)        128         add_14[0][0]                     \n__________________________________________________________________________________________________\ndense_48 (Dense)                (400, 65, 128)       8320        layer_normalization_14[0][0]     \n__________________________________________________________________________________________________\ndense_49 (Dense)                (400, 65, 64)        8256        dense_48[0][0]                   \n__________________________________________________________________________________________________\ndropout_15 (Dropout)            (400, 65, 64)        0           dense_49[0][0]                   \n__________________________________________________________________________________________________\nadd_15 (Add)                    (400, 65, 64)        0           layer_normalization_14[0][0]     \n                                                                 dropout_15[0][0]                 \n__________________________________________________________________________________________________\nlayer_normalization_15 (LayerNo (400, 65, 64)        128         add_15[0][0]                     \n__________________________________________________________________________________________________\ntf_op_layer_strided_slice (Tens [(400, 64)]          0           layer_normalization_15[0][0]     \n__________________________________________________________________________________________________\ndense_50 (Dense)                (400, 128)           8320        tf_op_layer_strided_slice[0][0]  \n__________________________________________________________________________________________________\ndropout_16 (Dropout)            (400, 128)           0           dense_50[0][0]                   \n__________________________________________________________________________________________________\ndense_51 (Dense)                (400, 10)            1290        dropout_16[0][0]                 \n==================================================================================================\nTotal params: 150,858\nTrainable params: 150,858\nNon-trainable params: 0\n__________________________________________________________________________________________________\n"
     ]
    }
   ],
   "source": [
    "epochs = 30\n",
    "batch_size = 400\n",
    "\n",
    "def make_ViT(img_size = 32, ch_size = 3, patch_size = 4,\n",
    "             batch_size = 400, num_layers = 4, d_model = 64,\n",
    "             num_heads = 4, mlp_dim = 128, num_classes = 10):\n",
    "\n",
    "    num_patches = (img_size // patch_size) ** 2\n",
    "    patch_dim = ch_size * patch_size ** 2\n",
    "\n",
    "    inputs = Input(shape=(32, 32, 3))\n",
    "\n",
    "    x = Rescaling(1./255)(inputs)\n",
    "    x = tf.nn.space_to_depth(x, patch_size)\n",
    "    x = K.reshape(x, (-1, num_patches, patch_dim))\n",
    "    x = Dense(d_model)(x)\n",
    "\n",
    "    x = Add_Embedding_Layer(num_patches, d_model, batch_size)(x)\n",
    "    for _ in range(num_layers):\n",
    "        x = TransformerBlock(x, d_model, num_heads, mlp_dim)\n",
    "\n",
    "    x = Dense(mlp_dim, activation='relu')(x[:, 0])\n",
    "    x = Dropout(0.1)(x)\n",
    "    y = Dense(num_classes, activation='softmax')(x)\n",
    "    return Model(inputs=inputs, outputs=y)\n",
    "\n",
    "model = make_ViT()\n",
    "model.compile(optimizer='Adam',\n",
    "              loss='categorical_crossentropy',\n",
    "              metrics=['accuracy'])\n",
    "model.summary()"
   ]
  },
  {
   "cell_type": "code",
   "execution_count": 11,
   "metadata": {},
   "outputs": [
    {
     "output_type": "stream",
     "name": "stdout",
     "text": [
      "Epoch 1/30\n",
      "103/125 [=======================>......] - ETA: 14s - loss: 2.0196 - accuracy: 0.2412"
     ]
    },
    {
     "output_type": "error",
     "ename": "KeyboardInterrupt",
     "evalue": "",
     "traceback": [
      "\u001b[0;31m---------------------------------------------------------------------------\u001b[0m",
      "\u001b[0;31mKeyboardInterrupt\u001b[0m                         Traceback (most recent call last)",
      "\u001b[0;32m<ipython-input-11-ba28ae4e156b>\u001b[0m in \u001b[0;36m<module>\u001b[0;34m\u001b[0m\n\u001b[1;32m      2\u001b[0m \u001b[0my_train\u001b[0m \u001b[0;34m=\u001b[0m \u001b[0mto_categorical\u001b[0m\u001b[0;34m(\u001b[0m\u001b[0my_train\u001b[0m\u001b[0;34m)\u001b[0m\u001b[0;34m\u001b[0m\u001b[0;34m\u001b[0m\u001b[0m\n\u001b[1;32m      3\u001b[0m \u001b[0my_test\u001b[0m \u001b[0;34m=\u001b[0m \u001b[0mto_categorical\u001b[0m\u001b[0;34m(\u001b[0m\u001b[0my_test\u001b[0m\u001b[0;34m)\u001b[0m\u001b[0;34m\u001b[0m\u001b[0;34m\u001b[0m\u001b[0m\n\u001b[0;32m----> 4\u001b[0;31m \u001b[0mhistory\u001b[0m \u001b[0;34m=\u001b[0m \u001b[0mmodel\u001b[0m\u001b[0;34m.\u001b[0m\u001b[0mfit\u001b[0m\u001b[0;34m(\u001b[0m\u001b[0mx_train\u001b[0m\u001b[0;34m,\u001b[0m \u001b[0my_train\u001b[0m\u001b[0;34m,\u001b[0m \u001b[0mbatch_size\u001b[0m\u001b[0;34m=\u001b[0m\u001b[0mbatch_size\u001b[0m\u001b[0;34m,\u001b[0m \u001b[0mepochs\u001b[0m\u001b[0;34m=\u001b[0m\u001b[0mepochs\u001b[0m\u001b[0;34m,\u001b[0m \u001b[0mvalidation_data\u001b[0m\u001b[0;34m=\u001b[0m\u001b[0;34m(\u001b[0m\u001b[0mx_test\u001b[0m\u001b[0;34m,\u001b[0m \u001b[0my_test\u001b[0m\u001b[0;34m)\u001b[0m\u001b[0;34m,\u001b[0m \u001b[0mverbose\u001b[0m\u001b[0;34m=\u001b[0m\u001b[0;36m1\u001b[0m\u001b[0;34m)\u001b[0m\u001b[0;34m\u001b[0m\u001b[0;34m\u001b[0m\u001b[0m\n\u001b[0m",
      "\u001b[0;32m~/anaconda3/lib/python3.7/site-packages/tensorflow/python/keras/engine/training.py\u001b[0m in \u001b[0;36m_method_wrapper\u001b[0;34m(self, *args, **kwargs)\u001b[0m\n\u001b[1;32m    106\u001b[0m   \u001b[0;32mdef\u001b[0m \u001b[0m_method_wrapper\u001b[0m\u001b[0;34m(\u001b[0m\u001b[0mself\u001b[0m\u001b[0;34m,\u001b[0m \u001b[0;34m*\u001b[0m\u001b[0margs\u001b[0m\u001b[0;34m,\u001b[0m \u001b[0;34m**\u001b[0m\u001b[0mkwargs\u001b[0m\u001b[0;34m)\u001b[0m\u001b[0;34m:\u001b[0m\u001b[0;34m\u001b[0m\u001b[0;34m\u001b[0m\u001b[0m\n\u001b[1;32m    107\u001b[0m     \u001b[0;32mif\u001b[0m \u001b[0;32mnot\u001b[0m \u001b[0mself\u001b[0m\u001b[0;34m.\u001b[0m\u001b[0m_in_multi_worker_mode\u001b[0m\u001b[0;34m(\u001b[0m\u001b[0;34m)\u001b[0m\u001b[0;34m:\u001b[0m  \u001b[0;31m# pylint: disable=protected-access\u001b[0m\u001b[0;34m\u001b[0m\u001b[0;34m\u001b[0m\u001b[0m\n\u001b[0;32m--> 108\u001b[0;31m       \u001b[0;32mreturn\u001b[0m \u001b[0mmethod\u001b[0m\u001b[0;34m(\u001b[0m\u001b[0mself\u001b[0m\u001b[0;34m,\u001b[0m \u001b[0;34m*\u001b[0m\u001b[0margs\u001b[0m\u001b[0;34m,\u001b[0m \u001b[0;34m**\u001b[0m\u001b[0mkwargs\u001b[0m\u001b[0;34m)\u001b[0m\u001b[0;34m\u001b[0m\u001b[0;34m\u001b[0m\u001b[0m\n\u001b[0m\u001b[1;32m    109\u001b[0m \u001b[0;34m\u001b[0m\u001b[0m\n\u001b[1;32m    110\u001b[0m     \u001b[0;31m# Running inside `run_distribute_coordinator` already.\u001b[0m\u001b[0;34m\u001b[0m\u001b[0;34m\u001b[0m\u001b[0;34m\u001b[0m\u001b[0m\n",
      "\u001b[0;32m~/anaconda3/lib/python3.7/site-packages/tensorflow/python/keras/engine/training.py\u001b[0m in \u001b[0;36mfit\u001b[0;34m(self, x, y, batch_size, epochs, verbose, callbacks, validation_split, validation_data, shuffle, class_weight, sample_weight, initial_epoch, steps_per_epoch, validation_steps, validation_batch_size, validation_freq, max_queue_size, workers, use_multiprocessing)\u001b[0m\n\u001b[1;32m   1096\u001b[0m                 batch_size=batch_size):\n\u001b[1;32m   1097\u001b[0m               \u001b[0mcallbacks\u001b[0m\u001b[0;34m.\u001b[0m\u001b[0mon_train_batch_begin\u001b[0m\u001b[0;34m(\u001b[0m\u001b[0mstep\u001b[0m\u001b[0;34m)\u001b[0m\u001b[0;34m\u001b[0m\u001b[0;34m\u001b[0m\u001b[0m\n\u001b[0;32m-> 1098\u001b[0;31m               \u001b[0mtmp_logs\u001b[0m \u001b[0;34m=\u001b[0m \u001b[0mtrain_function\u001b[0m\u001b[0;34m(\u001b[0m\u001b[0miterator\u001b[0m\u001b[0;34m)\u001b[0m\u001b[0;34m\u001b[0m\u001b[0;34m\u001b[0m\u001b[0m\n\u001b[0m\u001b[1;32m   1099\u001b[0m               \u001b[0;32mif\u001b[0m \u001b[0mdata_handler\u001b[0m\u001b[0;34m.\u001b[0m\u001b[0mshould_sync\u001b[0m\u001b[0;34m:\u001b[0m\u001b[0;34m\u001b[0m\u001b[0;34m\u001b[0m\u001b[0m\n\u001b[1;32m   1100\u001b[0m                 \u001b[0mcontext\u001b[0m\u001b[0;34m.\u001b[0m\u001b[0masync_wait\u001b[0m\u001b[0;34m(\u001b[0m\u001b[0;34m)\u001b[0m\u001b[0;34m\u001b[0m\u001b[0;34m\u001b[0m\u001b[0m\n",
      "\u001b[0;32m~/anaconda3/lib/python3.7/site-packages/tensorflow/python/eager/def_function.py\u001b[0m in \u001b[0;36m__call__\u001b[0;34m(self, *args, **kwds)\u001b[0m\n\u001b[1;32m    778\u001b[0m       \u001b[0;32melse\u001b[0m\u001b[0;34m:\u001b[0m\u001b[0;34m\u001b[0m\u001b[0;34m\u001b[0m\u001b[0m\n\u001b[1;32m    779\u001b[0m         \u001b[0mcompiler\u001b[0m \u001b[0;34m=\u001b[0m \u001b[0;34m\"nonXla\"\u001b[0m\u001b[0;34m\u001b[0m\u001b[0;34m\u001b[0m\u001b[0m\n\u001b[0;32m--> 780\u001b[0;31m         \u001b[0mresult\u001b[0m \u001b[0;34m=\u001b[0m \u001b[0mself\u001b[0m\u001b[0;34m.\u001b[0m\u001b[0m_call\u001b[0m\u001b[0;34m(\u001b[0m\u001b[0;34m*\u001b[0m\u001b[0margs\u001b[0m\u001b[0;34m,\u001b[0m \u001b[0;34m**\u001b[0m\u001b[0mkwds\u001b[0m\u001b[0;34m)\u001b[0m\u001b[0;34m\u001b[0m\u001b[0;34m\u001b[0m\u001b[0m\n\u001b[0m\u001b[1;32m    781\u001b[0m \u001b[0;34m\u001b[0m\u001b[0m\n\u001b[1;32m    782\u001b[0m       \u001b[0mnew_tracing_count\u001b[0m \u001b[0;34m=\u001b[0m \u001b[0mself\u001b[0m\u001b[0;34m.\u001b[0m\u001b[0m_get_tracing_count\u001b[0m\u001b[0;34m(\u001b[0m\u001b[0;34m)\u001b[0m\u001b[0;34m\u001b[0m\u001b[0;34m\u001b[0m\u001b[0m\n",
      "\u001b[0;32m~/anaconda3/lib/python3.7/site-packages/tensorflow/python/eager/def_function.py\u001b[0m in \u001b[0;36m_call\u001b[0;34m(self, *args, **kwds)\u001b[0m\n\u001b[1;32m    805\u001b[0m       \u001b[0;31m# In this case we have created variables on the first call, so we run the\u001b[0m\u001b[0;34m\u001b[0m\u001b[0;34m\u001b[0m\u001b[0;34m\u001b[0m\u001b[0m\n\u001b[1;32m    806\u001b[0m       \u001b[0;31m# defunned version which is guaranteed to never create variables.\u001b[0m\u001b[0;34m\u001b[0m\u001b[0;34m\u001b[0m\u001b[0;34m\u001b[0m\u001b[0m\n\u001b[0;32m--> 807\u001b[0;31m       \u001b[0;32mreturn\u001b[0m \u001b[0mself\u001b[0m\u001b[0;34m.\u001b[0m\u001b[0m_stateless_fn\u001b[0m\u001b[0;34m(\u001b[0m\u001b[0;34m*\u001b[0m\u001b[0margs\u001b[0m\u001b[0;34m,\u001b[0m \u001b[0;34m**\u001b[0m\u001b[0mkwds\u001b[0m\u001b[0;34m)\u001b[0m  \u001b[0;31m# pylint: disable=not-callable\u001b[0m\u001b[0;34m\u001b[0m\u001b[0;34m\u001b[0m\u001b[0m\n\u001b[0m\u001b[1;32m    808\u001b[0m     \u001b[0;32melif\u001b[0m \u001b[0mself\u001b[0m\u001b[0;34m.\u001b[0m\u001b[0m_stateful_fn\u001b[0m \u001b[0;32mis\u001b[0m \u001b[0;32mnot\u001b[0m \u001b[0;32mNone\u001b[0m\u001b[0;34m:\u001b[0m\u001b[0;34m\u001b[0m\u001b[0;34m\u001b[0m\u001b[0m\n\u001b[1;32m    809\u001b[0m       \u001b[0;31m# Release the lock early so that multiple threads can perform the call\u001b[0m\u001b[0;34m\u001b[0m\u001b[0;34m\u001b[0m\u001b[0;34m\u001b[0m\u001b[0m\n",
      "\u001b[0;32m~/anaconda3/lib/python3.7/site-packages/tensorflow/python/eager/function.py\u001b[0m in \u001b[0;36m__call__\u001b[0;34m(self, *args, **kwargs)\u001b[0m\n\u001b[1;32m   2827\u001b[0m     \u001b[0;32mwith\u001b[0m \u001b[0mself\u001b[0m\u001b[0;34m.\u001b[0m\u001b[0m_lock\u001b[0m\u001b[0;34m:\u001b[0m\u001b[0;34m\u001b[0m\u001b[0;34m\u001b[0m\u001b[0m\n\u001b[1;32m   2828\u001b[0m       \u001b[0mgraph_function\u001b[0m\u001b[0;34m,\u001b[0m \u001b[0margs\u001b[0m\u001b[0;34m,\u001b[0m \u001b[0mkwargs\u001b[0m \u001b[0;34m=\u001b[0m \u001b[0mself\u001b[0m\u001b[0;34m.\u001b[0m\u001b[0m_maybe_define_function\u001b[0m\u001b[0;34m(\u001b[0m\u001b[0margs\u001b[0m\u001b[0;34m,\u001b[0m \u001b[0mkwargs\u001b[0m\u001b[0;34m)\u001b[0m\u001b[0;34m\u001b[0m\u001b[0;34m\u001b[0m\u001b[0m\n\u001b[0;32m-> 2829\u001b[0;31m     \u001b[0;32mreturn\u001b[0m \u001b[0mgraph_function\u001b[0m\u001b[0;34m.\u001b[0m\u001b[0m_filtered_call\u001b[0m\u001b[0;34m(\u001b[0m\u001b[0margs\u001b[0m\u001b[0;34m,\u001b[0m \u001b[0mkwargs\u001b[0m\u001b[0;34m)\u001b[0m  \u001b[0;31m# pylint: disable=protected-access\u001b[0m\u001b[0;34m\u001b[0m\u001b[0;34m\u001b[0m\u001b[0m\n\u001b[0m\u001b[1;32m   2830\u001b[0m \u001b[0;34m\u001b[0m\u001b[0m\n\u001b[1;32m   2831\u001b[0m   \u001b[0;34m@\u001b[0m\u001b[0mproperty\u001b[0m\u001b[0;34m\u001b[0m\u001b[0;34m\u001b[0m\u001b[0m\n",
      "\u001b[0;32m~/anaconda3/lib/python3.7/site-packages/tensorflow/python/eager/function.py\u001b[0m in \u001b[0;36m_filtered_call\u001b[0;34m(self, args, kwargs, cancellation_manager)\u001b[0m\n\u001b[1;32m   1846\u001b[0m                            resource_variable_ops.BaseResourceVariable))],\n\u001b[1;32m   1847\u001b[0m         \u001b[0mcaptured_inputs\u001b[0m\u001b[0;34m=\u001b[0m\u001b[0mself\u001b[0m\u001b[0;34m.\u001b[0m\u001b[0mcaptured_inputs\u001b[0m\u001b[0;34m,\u001b[0m\u001b[0;34m\u001b[0m\u001b[0;34m\u001b[0m\u001b[0m\n\u001b[0;32m-> 1848\u001b[0;31m         cancellation_manager=cancellation_manager)\n\u001b[0m\u001b[1;32m   1849\u001b[0m \u001b[0;34m\u001b[0m\u001b[0m\n\u001b[1;32m   1850\u001b[0m   \u001b[0;32mdef\u001b[0m \u001b[0m_call_flat\u001b[0m\u001b[0;34m(\u001b[0m\u001b[0mself\u001b[0m\u001b[0;34m,\u001b[0m \u001b[0margs\u001b[0m\u001b[0;34m,\u001b[0m \u001b[0mcaptured_inputs\u001b[0m\u001b[0;34m,\u001b[0m \u001b[0mcancellation_manager\u001b[0m\u001b[0;34m=\u001b[0m\u001b[0;32mNone\u001b[0m\u001b[0;34m)\u001b[0m\u001b[0;34m:\u001b[0m\u001b[0;34m\u001b[0m\u001b[0;34m\u001b[0m\u001b[0m\n",
      "\u001b[0;32m~/anaconda3/lib/python3.7/site-packages/tensorflow/python/eager/function.py\u001b[0m in \u001b[0;36m_call_flat\u001b[0;34m(self, args, captured_inputs, cancellation_manager)\u001b[0m\n\u001b[1;32m   1922\u001b[0m       \u001b[0;31m# No tape is watching; skip to running the function.\u001b[0m\u001b[0;34m\u001b[0m\u001b[0;34m\u001b[0m\u001b[0;34m\u001b[0m\u001b[0m\n\u001b[1;32m   1923\u001b[0m       return self._build_call_outputs(self._inference_function.call(\n\u001b[0;32m-> 1924\u001b[0;31m           ctx, args, cancellation_manager=cancellation_manager))\n\u001b[0m\u001b[1;32m   1925\u001b[0m     forward_backward = self._select_forward_and_backward_functions(\n\u001b[1;32m   1926\u001b[0m         \u001b[0margs\u001b[0m\u001b[0;34m,\u001b[0m\u001b[0;34m\u001b[0m\u001b[0;34m\u001b[0m\u001b[0m\n",
      "\u001b[0;32m~/anaconda3/lib/python3.7/site-packages/tensorflow/python/eager/function.py\u001b[0m in \u001b[0;36mcall\u001b[0;34m(self, ctx, args, cancellation_manager)\u001b[0m\n\u001b[1;32m    548\u001b[0m               \u001b[0minputs\u001b[0m\u001b[0;34m=\u001b[0m\u001b[0margs\u001b[0m\u001b[0;34m,\u001b[0m\u001b[0;34m\u001b[0m\u001b[0;34m\u001b[0m\u001b[0m\n\u001b[1;32m    549\u001b[0m               \u001b[0mattrs\u001b[0m\u001b[0;34m=\u001b[0m\u001b[0mattrs\u001b[0m\u001b[0;34m,\u001b[0m\u001b[0;34m\u001b[0m\u001b[0;34m\u001b[0m\u001b[0m\n\u001b[0;32m--> 550\u001b[0;31m               ctx=ctx)\n\u001b[0m\u001b[1;32m    551\u001b[0m         \u001b[0;32melse\u001b[0m\u001b[0;34m:\u001b[0m\u001b[0;34m\u001b[0m\u001b[0;34m\u001b[0m\u001b[0m\n\u001b[1;32m    552\u001b[0m           outputs = execute.execute_with_cancellation(\n",
      "\u001b[0;32m~/anaconda3/lib/python3.7/site-packages/tensorflow/python/eager/execute.py\u001b[0m in \u001b[0;36mquick_execute\u001b[0;34m(op_name, num_outputs, inputs, attrs, ctx, name)\u001b[0m\n\u001b[1;32m     58\u001b[0m     \u001b[0mctx\u001b[0m\u001b[0;34m.\u001b[0m\u001b[0mensure_initialized\u001b[0m\u001b[0;34m(\u001b[0m\u001b[0;34m)\u001b[0m\u001b[0;34m\u001b[0m\u001b[0;34m\u001b[0m\u001b[0m\n\u001b[1;32m     59\u001b[0m     tensors = pywrap_tfe.TFE_Py_Execute(ctx._handle, device_name, op_name,\n\u001b[0;32m---> 60\u001b[0;31m                                         inputs, attrs, num_outputs)\n\u001b[0m\u001b[1;32m     61\u001b[0m   \u001b[0;32mexcept\u001b[0m \u001b[0mcore\u001b[0m\u001b[0;34m.\u001b[0m\u001b[0m_NotOkStatusException\u001b[0m \u001b[0;32mas\u001b[0m \u001b[0me\u001b[0m\u001b[0;34m:\u001b[0m\u001b[0;34m\u001b[0m\u001b[0;34m\u001b[0m\u001b[0m\n\u001b[1;32m     62\u001b[0m     \u001b[0;32mif\u001b[0m \u001b[0mname\u001b[0m \u001b[0;32mis\u001b[0m \u001b[0;32mnot\u001b[0m \u001b[0;32mNone\u001b[0m\u001b[0;34m:\u001b[0m\u001b[0;34m\u001b[0m\u001b[0;34m\u001b[0m\u001b[0m\n",
      "\u001b[0;31mKeyboardInterrupt\u001b[0m: "
     ]
    }
   ],
   "source": [
    "(x_train, y_train), (x_test, y_test) = cifar10.load_data()\n",
    "y_train = to_categorical(y_train)\n",
    "y_test = to_categorical(y_test)\n",
    "history = model.fit(x_train, y_train, batch_size=batch_size, epochs=epochs, validation_data=(x_test, y_test), verbose=1)"
   ]
  },
  {
   "cell_type": "code",
   "execution_count": null,
   "metadata": {},
   "outputs": [],
   "source": []
  }
 ]
}