{
 "metadata": {
  "language_info": {
   "codemirror_mode": {
    "name": "ipython",
    "version": 3
   },
   "file_extension": ".py",
   "mimetype": "text/x-python",
   "name": "python",
   "nbconvert_exporter": "python",
   "pygments_lexer": "ipython3",
   "version": 3
  },
  "orig_nbformat": 2
 },
 "nbformat": 4,
 "nbformat_minor": 2,
 "cells": [
  {
   "source": [
    "# ニューラルネットワーク\n",
    "\n",
    "## パーセプトロン\n",
    "\n",
    "### 単純パーセプトロン\n",
    "\n",
    "神経生理学者・外科医であるウォーレン・マカロックと論理学者・数学者であるウォルター・ピッツが人間のニューロンを基にした形式ニューロン(ニューロンモデル)を発表した(1943)\n",
    "\n",
    "<figure>\n",
    "    <img src=\"https://gyazo.com/cd562db9356c71fbe0c9a926de610bc2.png\" alt=\"neural-net\">\n",
    "    <caption><center>パーセプトロン</center></caption>\n",
    "</figure>\n",
    "\n",
    "もう少し数学チックに書くと、\n",
    "\n",
    "<figure>\n",
    "    <img src=\"https://gyazo.com/b44b800b11459844e5bf394ba2aa8a63.png\" alt=\"neural-net\">\n",
    "    <caption><center>パーセプトロン</center></caption>\n",
    "</figure>\n"
   ],
   "cell_type": "markdown",
   "metadata": {}
  },
  {
   "cell_type": "code",
   "execution_count": null,
   "metadata": {},
   "outputs": [],
   "source": []
  },
  {
   "source": [
    "## 学習則\n",
    "\n",
    "### ヘッブ則\n",
    "\n",
    "ヘッブ則(Hebbian rule) は、1949 年に Donald Hebb によって提唱された脳のシナプスの可塑性(変化した状態が保たれる性質)についての法則。\n",
    "\n",
    "例えば、ニューロン X がニューロン Z を発火させると，2つのニューロンの結合が高まる。これをヘッブ則という。\n",
    "\n",
    "---\n",
    "\n",
    "$\\Delta w = by_i y_j$\n",
    "\n",
    "$y_i$、$y_j$ がともに大きければ、結合強度が大きい。\n",
    "\n",
    "$\\Delta w$ : 重みの変化量\n",
    "\n",
    "$y_i$ : シナプス前のニューロンの興奮度合い\n",
    "\n",
    "$y_j$ : シナプス後のニューロンの興奮度合い\n",
    "\n",
    "$b$ : 定数（バイアス）\n",
    "\n",
    "\n",
    "\n",
    "<figure>\n",
    "    <img src=\"https://gyazo.com/4a039e7f3554ec91fa35301bd3a88946.png\" alt=\"neural-net\">\n",
    "    <caption><center>2層のニューラルネット</center></caption>\n",
    "</figure>\n",
    "\n",
    "### デルタ則\n",
    "\n",
    "デルタ則 (Delta rule) は、1960 年 Widrow と Hoff らによって提唱されたニューラルネットワークの学習に関する規則。\n",
    "\n",
    "- 出力と正解の差が大きいほど、重みの修正量を大きくする。\n",
    "- 入力が大きいほど、重みの修正量を大きくする。\n",
    "\n",
    "---\n",
    "\n",
    "$\\Delta w = \\alpha (y_j - t)y_i$\n",
    "\n",
    "学習率とは、重みパラメータの更新の幅を決める定数のこと。詳細は後述(`optimization.ipynb`)\n",
    "\n",
    "デルタ則により、理想の状態とはなれているほど、理想の状態に戻るための重みの修正量が大きくなる。\n",
    "\n",
    "また、ニューロンに大きな入力があれば、シナプスに強い刺激があったとみなされ重みは変化しやすくなる。\n",
    "\n",
    "$\\alpha$ : 学習率\n",
    "\n",
    "$t$ : 正解値\n",
    "\n",
    "$y_i$ : シナプス前のニューロンの興奮度合い\n",
    "\n",
    "$y_j$ : シナプス後のニューロンの興奮度合い"
   ],
   "cell_type": "markdown",
   "metadata": {}
  },
  {
   "cell_type": "code",
   "execution_count": null,
   "metadata": {},
   "outputs": [],
   "source": []
  }
 ]
}