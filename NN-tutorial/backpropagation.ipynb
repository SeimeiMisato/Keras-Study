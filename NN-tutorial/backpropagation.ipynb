{
 "metadata": {
  "language_info": {
   "codemirror_mode": {
    "name": "ipython",
    "version": 3
   },
   "file_extension": ".py",
   "mimetype": "text/x-python",
   "name": "python",
   "nbconvert_exporter": "python",
   "pygments_lexer": "ipython3",
   "version": "3.9.1-final"
  },
  "orig_nbformat": 2,
  "kernelspec": {
   "name": "python3",
   "display_name": "Python 3.9.1 64-bit ('py39': conda)",
   "metadata": {
    "interpreter": {
     "hash": "f1f6fcae5830a5cdfc910b6c5c62620375196fe876640a0b9ba90fa6985aafaf"
    }
   }
  }
 },
 "nbformat": 4,
 "nbformat_minor": 2,
 "cells": [
  {
   "source": [
    "# 誤差逆伝播法(Backpropagation) と BPTT(Backpropagation Trough Time)\n"
   ],
   "cell_type": "markdown",
   "metadata": {}
  },
  {
   "cell_type": "code",
   "execution_count": 1,
   "metadata": {},
   "outputs": [],
   "source": [
    "import numpy as np\n",
    "import matplotlib.pyplot as plt\n",
    "from matplotlib import animation as ani\n",
    "from matplotlib import rcParams\n",
    "rcParams['font.family'] = 'sans-serif'\n",
    "rcParams['font.sans-serif'] = ['Hiragino Maru Gothic Pro', 'Yu Gothic', 'Meirio', 'Takao', 'IPAexGothic', 'IPAPGothic', 'VL PGothic', 'Noto Sans CJK JP']"
   ]
  },
  {
   "source": [
    "## 合成関数と連鎖律\n",
    "\n",
    "関数 $y = f(x)$ と $z = g(y)$ を「**合成**」する。\n",
    "\n",
    "すると、$f$ を適用した後に $g$ を適用するため、$z=g(f(x))$ になる。\n",
    "\n",
    "ディープラーニングのニューラルネットワークでは、ニューロンを重ねて複雑な関数を表現する。各ニューロンを「１つの関数」と見ると、ニューラルネットワークは、多くの関数を合成した「**合成関数**」とみなせる。\n",
    "\n",
    "ニューラルネットワークのような合成関数を簡単に微分する方法として「**連鎖律(chain rule)**」がある。\n",
    "\n",
    "---\n",
    "\n",
    "$(3x+4)^2$\n",
    "\n",
    "という式を計算してみる。\n",
    "\n",
    "そのまま展開して微分すると、\n",
    "\n",
    "$=9x^2+24x+16$\n",
    "\n",
    "$=18x+24$\n",
    "\n",
    "2乗だと簡単だが、3乗や4乗と増えていくと式を展開するのが大変になっていく。そこで、合成関数の微分を使う。\n",
    "\n",
    "公式として以下にまとめられる。\n",
    "\n",
    "$u = (3x+4)^2$ とおく。$u=g(x)$になる。\n",
    "\n",
    "\n",
    "$\\frac{d}{dx} f(g(x)) = \\frac{df(u)}{du}\\frac{du}{dx}$\n",
    "\n",
    "\n",
    "数値を入れてみる。\n",
    "\n",
    "$(3x+4)^2$\n",
    "\n",
    "$= \\frac{d}{dx} \\{(3x+4)^2\\}$\n",
    "\n",
    "$= \\frac{du}{dx} \\frac{d}{du}(u^2)$\n",
    "\n",
    "$= \\frac{d}{dx}(3x+4)*\\frac{d}{du}(u^2)$\n",
    "\n",
    "$=3*2u=6u$\n",
    "\n",
    "$=6(3x+4)$\n",
    "\n",
    "$=18x+24$\n",
    "\n",
    "となり、展開して微分した結果と同じになる。\n",
    "\n",
    "---\n",
    "\n",
    "偏微分を連鎖率で解く\n",
    "\n",
    "$\\dfrac{\\partial}{\\partial x} (x - 10)^{2} + (x - y)^{2} + (y - 5)^{2}\n",
    "\\\\ = 2(x-10)\\times1 + 2(x-y)\\times 1\n",
    "\\\\ = 4x -2y -20$\n",
    "\n",
    "$\\dfrac{\\partial}{\\partial y} (x - 10)^{2} + (x - y)^{2} + (y - 5)^{2}\n",
    "\\\\ = 2(x-y)\\times -1 + 2(y-5)\\times1\n",
    "\\\\= -2x+4y-10$"
   ],
   "cell_type": "markdown",
   "metadata": {}
  },
  {
   "source": [
    "### Python で偏微分\n",
    "\n",
    "$(x-10)^2+(x-y)^2+(y-5)^2$"
   ],
   "cell_type": "markdown",
   "metadata": {}
  },
  {
   "cell_type": "code",
   "execution_count": 10,
   "metadata": {},
   "outputs": [],
   "source": [
    "import sympy as sym\n",
    "sym.init_printing(use_unicode=True)\n",
    "\n",
    "x ,y  = sym.symbols(\"x y\")\n",
    "fxy = (x-10)**2+(x-y)**2+(y-5)**2"
   ]
  },
  {
   "cell_type": "code",
   "execution_count": 11,
   "metadata": {},
   "outputs": [
    {
     "output_type": "execute_result",
     "data": {
      "text/plain": [
       "4⋅x - 2⋅y - 20"
      ],
      "image/png": "[encoded data removed]",
      "text/latex": "$\\displaystyle 4 x - 2 y - 20$"
     },
     "metadata": {},
     "execution_count": 11
    }
   ],
   "source": [
    "fdx = sym.diff(fxy,x)\n",
    "fdx"
   ]
  },
  {
   "cell_type": "code",
   "execution_count": 12,
   "metadata": {},
   "outputs": [
    {
     "output_type": "execute_result",
     "data": {
      "text/plain": [
       "-2⋅x + 4⋅y - 10"
      ],
      "image/png": "[encoded data removed]",
      "text/latex": "$\\displaystyle - 2 x + 4 y - 10$"
     },
     "metadata": {},
     "execution_count": 12
    }
   ],
   "source": [
    "fdy = sym.diff(fxy,y)\n",
    "fdy"
   ]
  },
  {
   "cell_type": "code",
   "execution_count": 13,
   "metadata": {},
   "outputs": [
    {
     "output_type": "execute_result",
     "data": {
      "text/plain": [
       "{x: 25/3, y: 20/3}"
      ],
      "image/png": "[encoded data removed]",
      "text/latex": "$\\displaystyle \\left\\{ x : \\frac{25}{3}, \\  y : \\frac{20}{3}\\right\\}$"
     },
     "metadata": {},
     "execution_count": 13
    }
   ],
   "source": [
    "sym.solve([fdx,fdy])"
   ]
  },
  {
   "source": [],
   "cell_type": "markdown",
   "metadata": {}
  },
  {
   "source": [
    "## 誤差逆伝播法(Backpropagation)"
   ],
   "cell_type": "markdown",
   "metadata": {}
  },
  {
   "source": [
    "`optimization.ipynb` では、勾配法では、損失関数を重みやバイアスで数値的に微分をして勾配を求めたが、\n",
    "誤差逆伝播法を使うとより効率よく勾配を求められる。\n",
    "\n",
    "### 数値的な勾配法"
   ],
   "cell_type": "markdown",
   "metadata": {}
  },
  {
   "source": [
    "<figure>\n",
    "    <img src=\"https://gyazo.com/4a039e7f3554ec91fa35301bd3a88946.png\" alt=\"neural-net\">\n",
    "    <caption><center>2層のニューラルネット</center></caption>\n",
    "</figure>"
   ],
   "cell_type": "markdown",
   "metadata": {}
  },
  {
   "cell_type": "code",
   "execution_count": null,
   "metadata": {},
   "outputs": [],
   "source": []
  }
 ]
}