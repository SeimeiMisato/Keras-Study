{
 "metadata": {
  "language_info": {
   "codemirror_mode": {
    "name": "ipython",
    "version": 3
   },
   "file_extension": ".py",
   "mimetype": "text/x-python",
   "name": "python",
   "nbconvert_exporter": "python",
   "pygments_lexer": "ipython3",
   "version": "3.7.4-final"
  },
  "orig_nbformat": 2,
  "kernelspec": {
   "name": "python3",
   "display_name": "Python 3",
   "language": "python"
  }
 },
 "nbformat": 4,
 "nbformat_minor": 2,
 "cells": [
  {
   "source": [
    "## 深層学習での前処理の順序\n",
    "\n",
    "分かち書き・正規化\n",
    "- 単語毎に分割(分かち書き)・正規化(無駄な文字を削除)\n",
    "\n",
    "ここまでをクレンジング(cleansing)という。\n",
    "\n",
    "↓\n",
    "\n",
    "単語埋め込み(Word Embedding)\n",
    "- 単語をベクトル化\n",
    "\n",
    "または、\n",
    "\n",
    "単語をトークン化(Tokenize)\n",
    "- 単語を一意の ID に変換\n",
    "\n",
    "↓\n",
    "\n",
    "パディング(Padding)・端数処理(truncating)\n",
    "\n",
    "↓\n",
    "\n",
    "学習モデルに入力"
   ],
   "cell_type": "markdown",
   "metadata": {}
  },
  {
   "source": [
    "これらは、[言語処理100本ノック 2020 (Rev 2)](https://nlp100.github.io/ja/) にて勉強できる。\n"
   ],
   "cell_type": "markdown",
   "metadata": {}
  },
  {
   "source": [
    "カリフォルニア大学アーバイン校がメンテナンスする559個のデータセットからなるリポジトリ\n",
    "\n",
    "[UC Irvine Machine Learning Repository](https://archive.ics.uci.edu/ml/index.php)"
   ],
   "cell_type": "markdown",
   "metadata": {}
  },
  {
   "cell_type": "code",
   "execution_count": null,
   "metadata": {},
   "outputs": [],
   "source": [
    "!wget https://archive.ics.uci.edu/ml/machine-learning-databases/00228/smsspamcollection.zip\n",
    "!unzip smsspamcollection.zip"
   ]
  },
  {
   "cell_type": "code",
   "execution_count": 1,
   "metadata": {},
   "outputs": [
    {
     "output_type": "execute_result",
     "data": {
      "text/plain": [
       "  label                                               text  category\n",
       "0   ham  Go until jurong point, crazy.. Available only ...         0\n",
       "1   ham                      Ok lar... Joking wif u oni...         0\n",
       "2  spam  Free entry in 2 a wkly comp to win FA Cup fina...         1\n",
       "3   ham  U dun say so early hor... U c already then say...         0\n",
       "4   ham  Nah I don't think he goes to usf, he lives aro...         0"
      ],
      "text/html": "<div>\n<style scoped>\n    .dataframe tbody tr th:only-of-type {\n        vertical-align: middle;\n    }\n\n    .dataframe tbody tr th {\n        vertical-align: top;\n    }\n\n    .dataframe thead th {\n        text-align: right;\n    }\n</style>\n<table border=\"1\" class=\"dataframe\">\n  <thead>\n    <tr style=\"text-align: right;\">\n      <th></th>\n      <th>label</th>\n      <th>text</th>\n      <th>category</th>\n    </tr>\n  </thead>\n  <tbody>\n    <tr>\n      <th>0</th>\n      <td>ham</td>\n      <td>Go until jurong point, crazy.. Available only ...</td>\n      <td>0</td>\n    </tr>\n    <tr>\n      <th>1</th>\n      <td>ham</td>\n      <td>Ok lar... Joking wif u oni...</td>\n      <td>0</td>\n    </tr>\n    <tr>\n      <th>2</th>\n      <td>spam</td>\n      <td>Free entry in 2 a wkly comp to win FA Cup fina...</td>\n      <td>1</td>\n    </tr>\n    <tr>\n      <th>3</th>\n      <td>ham</td>\n      <td>U dun say so early hor... U c already then say...</td>\n      <td>0</td>\n    </tr>\n    <tr>\n      <th>4</th>\n      <td>ham</td>\n      <td>Nah I don't think he goes to usf, he lives aro...</td>\n      <td>0</td>\n    </tr>\n  </tbody>\n</table>\n</div>"
     },
     "metadata": {},
     "execution_count": 1
    }
   ],
   "source": [
    "import pandas as pd\n",
    "\n",
    "df = pd.read_csv('./SMSSpamCollection', sep='\\t', header=None)\n",
    "df.rename({0: 'label', 1: 'text'}, axis=1, inplace=True)\n",
    "df['category'] = df.apply(lambda r: 1 if r['label'] == 'spam' else 0, axis=1)\n",
    "\n",
    "df.head()"
   ]
  },
  {
   "cell_type": "code",
   "execution_count": 2,
   "metadata": {},
   "outputs": [
    {
     "output_type": "stream",
     "name": "stdout",
     "text": [
      "(4457, 1) (1115, 1) (4457, 1) (1115, 1)\n"
     ]
    }
   ],
   "source": [
    "from sklearn.model_selection import train_test_split\n",
    "\n",
    "X_train, X_test, Y_train, Y_test = train_test_split(\n",
    "    df[['text']], df[['category']], \n",
    "test_size=0.2, random_state=0\n",
    ")\n",
    "\n",
    "print(X_train.shape, X_test.shape, Y_train.shape, Y_test.shape)"
   ]
  },
  {
   "cell_type": "code",
   "execution_count": 3,
   "metadata": {},
   "outputs": [
    {
     "output_type": "stream",
     "name": "stdout",
     "text": [
      "[[38, 32, 56, 12, 5, 636, 9, 14, 47, 36, 1, 208, 8, 128, 3810], [36, 3, 204, 21, 51, 1, 29, 138, 949, 2527, 3811, 3812, 3813, 3814], [17, 3, 3815, 26, 185, 47, 404, 209, 740, 62, 4, 299, 3816]]\n"
     ]
    },
    {
     "output_type": "execute_result",
     "data": {
      "text/plain": [
       "1114    No I'm good for the movie, is it ok if I leave...\n",
       "3589    If you were/are free i can give. Otherwise nal...\n",
       "3095    Have you emigrated or something? Ok maybe 5.30...\n",
       "Name: text, dtype: object"
      ]
     },
     "metadata": {},
     "execution_count": 3
    }
   ],
   "source": [
    "from keras.preprocessing.text import Tokenizer\n",
    "from keras.preprocessing.sequence import pad_sequences\n",
    "\n",
    "max_len = 100\n",
    "\n",
    "tokenizer = Tokenizer()\n",
    "tokenizer.fit_on_texts(X_train['text'])\n",
    "x_train = tokenizer.texts_to_sequences(X_train['text'])\n",
    "x_test = tokenizer.texts_to_sequences(X_test['text'])\n",
    "\n",
    "print(x_train[0:3])\n",
    "X_train['text'].head(3)"
   ]
  },
  {
   "cell_type": "code",
   "execution_count": 4,
   "metadata": {},
   "outputs": [
    {
     "output_type": "execute_result",
     "data": {
      "text/plain": [
       "array([[   0,    0,    0, ...,    8,  128, 3810],\n",
       "       [   0,    0,    0, ..., 3812, 3813, 3814],\n",
       "       [   0,    0,    0, ...,    4,  299, 3816],\n",
       "       ...,\n",
       "       [   0,    0,    0, ..., 3415, 1981,  346],\n",
       "       [   0,    0,    0, ...,   19,   11,  334],\n",
       "       [   0,    0,    0, ...,   33,   20,  105]], dtype=int32)"
      ]
     },
     "metadata": {},
     "execution_count": 4
    }
   ],
   "source": [
    "x_train = pad_sequences(x_train, maxlen=max_len)\n",
    "x_test = pad_sequences(x_test, maxlen=max_len)\n",
    "\n",
    "# x_trainの中身を確認\n",
    "x_train"
   ]
  },
  {
   "cell_type": "code",
   "execution_count": 5,
   "metadata": {},
   "outputs": [
    {
     "output_type": "stream",
     "name": "stdout",
     "text": [
      "Model: \"sequential\"\n_________________________________________________________________\nLayer (type)                 Output Shape              Param #   \n=================================================================\nembedding (Embedding)        (None, None, 32)          257920    \n_________________________________________________________________\nlstm (LSTM)                  (None, 16)                3136      \n_________________________________________________________________\ndense (Dense)                (None, 1)                 17        \n=================================================================\nTotal params: 261,073\nTrainable params: 261,073\nNon-trainable params: 0\n_________________________________________________________________\n"
     ]
    }
   ],
   "source": [
    "from keras.models import Sequential\n",
    "from keras.layers import LSTM, Dense, Embedding\n",
    "from keras.optimizers import Adam\n",
    "\n",
    "batch_size = 32\n",
    "epochs = 5\n",
    "\n",
    "vocabulary_size = len(tokenizer.word_index) + 1 \n",
    "model = Sequential()\n",
    "\n",
    "model.add(Embedding(input_dim=vocabulary_size, output_dim=32))\n",
    "model.add(LSTM(16, return_sequences=False))\n",
    "model.add(Dense(1, activation='sigmoid'))\n",
    "\n",
    "model.compile(loss='binary_crossentropy', optimizer=Adam(learning_rate=0.001), metrics=['accuracy'])\n",
    "\n",
    "model.summary()"
   ]
  },
  {
   "cell_type": "code",
   "execution_count": 6,
   "metadata": {},
   "outputs": [
    {
     "output_type": "stream",
     "name": "stdout",
     "text": [
      "Epoch 1/10\n",
      "140/140 [==============================] - 11s 82ms/step - loss: 0.2842 - accuracy: 0.9100 - val_loss: 0.1135 - val_accuracy: 0.9812\n",
      "Epoch 2/10\n",
      "140/140 [==============================] - 11s 79ms/step - loss: 0.0687 - accuracy: 0.9881 - val_loss: 0.0658 - val_accuracy: 0.9857\n",
      "Epoch 3/10\n",
      "140/140 [==============================] - 11s 77ms/step - loss: 0.0331 - accuracy: 0.9951 - val_loss: 0.0536 - val_accuracy: 0.9874\n",
      "Epoch 4/10\n",
      "140/140 [==============================] - 11s 79ms/step - loss: 0.0183 - accuracy: 0.9978 - val_loss: 0.0502 - val_accuracy: 0.9874\n",
      "Epoch 5/10\n",
      "140/140 [==============================] - 11s 80ms/step - loss: 0.0110 - accuracy: 0.9991 - val_loss: 0.0472 - val_accuracy: 0.9848\n",
      "Epoch 6/10\n",
      "140/140 [==============================] - 11s 80ms/step - loss: 0.0063 - accuracy: 0.9991 - val_loss: 0.0469 - val_accuracy: 0.9892\n",
      "Epoch 7/10\n",
      "140/140 [==============================] - 11s 79ms/step - loss: 0.0041 - accuracy: 0.9996 - val_loss: 0.0491 - val_accuracy: 0.9865\n",
      "Epoch 8/10\n",
      "140/140 [==============================] - 11s 79ms/step - loss: 0.0026 - accuracy: 0.9996 - val_loss: 0.0510 - val_accuracy: 0.9874\n",
      "Epoch 9/10\n",
      "140/140 [==============================] - 11s 79ms/step - loss: 0.0017 - accuracy: 1.0000 - val_loss: 0.0526 - val_accuracy: 0.9874\n",
      "Epoch 10/10\n",
      "140/140 [==============================] - 11s 77ms/step - loss: 0.0013 - accuracy: 1.0000 - val_loss: 0.0536 - val_accuracy: 0.9883\n"
     ]
    }
   ],
   "source": [
    "y_train = Y_train['category'].values\n",
    "y_test = Y_test['category'].values\n",
    "\n",
    "history = model.fit(\n",
    "    x_train, y_train, batch_size=batch_size, epochs=epochs,\n",
    "    validation_data=(x_test, y_test)\n",
    ")\n",
    "\n",
    "y_predict = model.predict(x_test)"
   ]
  },
  {
   "cell_type": "code",
   "execution_count": 7,
   "metadata": {},
   "outputs": [
    {
     "output_type": "stream",
     "name": "stdout",
     "text": [
      "WARNING:tensorflow:From <ipython-input-7-8adc07b33813>:9: Sequential.predict_classes (from tensorflow.python.keras.engine.sequential) is deprecated and will be removed after 2021-01-01.\n",
      "Instructions for updating:\n",
      "Please use instead:* `np.argmax(model.predict(x), axis=-1)`,   if your model does multi-class classification   (e.g. if it uses a `softmax` last-layer activation).* `(model.predict(x) > 0.5).astype(\"int32\")`,   if your model does binary classification   (e.g. if it uses a `sigmoid` last-layer activation).\n",
      "[[0]\n",
      " [1]\n",
      " [0]]\n"
     ]
    }
   ],
   "source": [
    "texts = [\n",
    "    \"Are you single? Use this site to find women in their 20s who want to have sex right away! Pay $ 100 Now and Get FREE! 08717890890\",\n",
    "    \"Are you single? Use this site to find women in their 20s who want to have sex right away! Pay $ 100 Now and Get FREE! 08717890890 http://porn.sex/xxx.asp?o=13543\",\n",
    "    \"Hello. It is nice weather. It's time to see the cherry blossoms, so how about cherry blossom viewing together\"\n",
    "]\n",
    "x = tokenizer.texts_to_sequences(texts)\n",
    "x = pad_sequences(x, maxlen=max_len)\n",
    "\n",
    "class_pred = model.predict_classes(x)\n",
    "print(class_pred)"
   ]
  },
  {
   "cell_type": "code",
   "execution_count": 8,
   "metadata": {},
   "outputs": [
    {
     "output_type": "stream",
     "name": "stdout",
     "text": [
      "Precision: 98.04%\nRecall: 93.75%\nF1 Score: 95.85%\n"
     ]
    }
   ],
   "source": [
    "from sklearn.metrics import confusion_matrix, precision_score,recall_score, f1_score\n",
    "\n",
    "cf_matrix = confusion_matrix(y_test,y_predict.round())\n",
    "tn,fp,fn,tp = confusion_matrix(y_test,y_predict.round()).ravel()\n",
    "\n",
    "print(\"精度(Precision): {:.2f}%\".format(100 * precision_score(y_test, y_predict.round())))\n",
    "print(\"再現率(Recall): {:.2f}%\".format(100 * recall_score(y_test, y_predict.round())))\n",
    "print(\"F値(F1 Score): {:.2f}%\".format(100 * f1_score(y_test,y_predict.round())))"
   ]
  },
  {
   "cell_type": "code",
   "execution_count": 9,
   "metadata": {},
   "outputs": [
    {
     "output_type": "display_data",
     "data": {
      "text/plain": "<Figure size 432x288 with 2 Axes>",
      "image/svg+xml": "<?xml version=\"1.0\" encoding=\"utf-8\" standalone=\"no\"?>\n<!DOCTYPE svg PUBLIC \"-//W3C//DTD SVG 1.1//EN\"\n  \"http://www.w3.org/Graphics/SVG/1.1/DTD/svg11.dtd\">\n<!-- Created with matplotlib (https://matplotlib.org/) -->\n<svg height=\"276.61pt\" version=\"1.1\" viewBox=\"0 0 365.528563 276.61\" width=\"365.528563pt\" xmlns=\"http://www.w3.org/2000/svg\" xmlns:xlink=\"http://www.w3.org/1999/xlink\">\n <metadata>\n  <rdf:RDF xmlns:cc=\"http://creativecommons.org/ns#\" xmlns:dc=\"http://purl.org/dc/elements/1.1/\" xmlns:rdf=\"http://www.w3.org/1999/02/22-rdf-syntax-ns#\">\n   <cc:Work>\n    <dc:type rdf:resource=\"http://purl.org/dc/dcmitype/StillImage\"/>\n    <dc:date>2021-02-09T04:42:10.349323</dc:date>\n    <dc:format>image/svg+xml</dc:format>\n    <dc:creator>\n     <cc:Agent>\n      <dc:title>Matplotlib v3.3.2, https://matplotlib.org/</dc:title>\n     </cc:Agent>\n    </dc:creator>\n   </cc:Work>\n  </rdf:RDF>\n </metadata>\n <defs>\n  <style type=\"text/css\">*{stroke-linecap:butt;stroke-linejoin:round;}</style>\n </defs>\n <g id=\"figure_1\">\n  <g id=\"patch_1\">\n   <path d=\"M 0 276.61 \nL 365.528563 276.61 \nL 365.528563 0 \nL 0 0 \nz\n\" style=\"fill:none;\"/>\n  </g>\n  <g id=\"axes_1\">\n   <g id=\"patch_2\">\n    <path d=\"M 36.98125 239.62875 \nL 304.82125 239.62875 \nL 304.82125 22.18875 \nL 36.98125 22.18875 \nz\n\" style=\"fill:#ffffff;\"/>\n   </g>\n   <g id=\"QuadMesh_1\">\n    <path clip-path=\"url(#p056620d2aa)\" d=\"M 36.98125 22.18875 \nL 170.90125 22.18875 \nL 170.90125 130.90875 \nL 36.98125 130.90875 \nL 36.98125 22.18875 \n\" style=\"fill:#08306b;\"/>\n    <path clip-path=\"url(#p056620d2aa)\" d=\"M 170.90125 22.18875 \nL 304.82125 22.18875 \nL 304.82125 130.90875 \nL 170.90125 130.90875 \nL 170.90125 22.18875 \n\" style=\"fill:#f7fbff;\"/>\n    <path clip-path=\"url(#p056620d2aa)\" d=\"M 36.98125 130.90875 \nL 170.90125 130.90875 \nL 170.90125 239.62875 \nL 36.98125 239.62875 \nL 36.98125 130.90875 \n\" style=\"fill:#f6faff;\"/>\n    <path clip-path=\"url(#p056620d2aa)\" d=\"M 170.90125 130.90875 \nL 304.82125 130.90875 \nL 304.82125 239.62875 \nL 170.90125 239.62875 \nL 170.90125 130.90875 \n\" style=\"fill:#d9e7f5;\"/>\n   </g>\n   <g id=\"matplotlib.axis_1\">\n    <g id=\"xtick_1\">\n     <g id=\"line2d_1\">\n      <defs>\n       <path d=\"M 0 0 \nL 0 3.5 \n\" id=\"m20b3744654\" style=\"stroke:#000000;stroke-width:0.8;\"/>\n      </defs>\n      <g>\n       <use style=\"stroke:#000000;stroke-width:0.8;\" x=\"103.94125\" xlink:href=\"#m20b3744654\" y=\"239.62875\"/>\n      </g>\n     </g>\n     <g id=\"text_1\">\n      <!-- Not Spam -->\n      <g transform=\"translate(80.905313 254.119375)scale(0.1 -0.1)\">\n       <defs>\n        <path d=\"M 66.3125 0.984375 \nL 58.296875 0.984375 \nL 26.515625 49.21875 \nQ 22.90625 54.6875 17.828125 64.015625 \nL 17.4375 64.015625 \nL 17.625 59.328125 \nQ 18.109375 43.796875 18.109375 38.578125 \nL 18.109375 0.984375 \nL 9.515625 0.984375 \nL 9.515625 72.40625 \nL 21.34375 72.40625 \nL 48.640625 30.90625 \nQ 53.953125 22.609375 58.015625 15.09375 \nL 58.40625 15.09375 \nQ 57.71875 29.640625 57.71875 38.578125 \nL 57.71875 72.40625 \nL 66.3125 72.40625 \nz\n\" id=\"IPAexGothic-78\"/>\n        <path d=\"M 29.984375 52.203125 \nQ 40.53125 52.203125 47.75 45.125 \nQ 55.171875 37.703125 55.171875 25.59375 \nQ 55.171875 13.875 47.90625 6.59375 \nQ 40.765625 -0.484375 29.984375 -0.484375 \nQ 19.1875 -0.484375 12.203125 6.5 \nQ 4.890625 13.765625 4.890625 25.875 \nQ 4.890625 37.703125 12.3125 45.125 \nQ 19.390625 52.203125 29.984375 52.203125 \nz\nM 29.984375 45.609375 \nQ 23.734375 45.609375 19.390625 41.109375 \nQ 13.875 35.59375 13.875 25.78125 \nQ 13.875 16.109375 19.28125 10.6875 \nQ 23.6875 6.296875 29.984375 6.296875 \nQ 36.421875 6.296875 40.765625 10.796875 \nQ 46.1875 16.21875 46.1875 26.125 \nQ 46.1875 35.453125 40.671875 41.109375 \nQ 36.1875 45.609375 29.984375 45.609375 \nz\n\" id=\"IPAexGothic-111\"/>\n        <path d=\"M 33.203125 3.765625 \nQ 27.640625 -0.09375 21.828125 -0.09375 \nQ 10.203125 -0.09375 10.203125 12.984375 \nL 10.203125 44.671875 \nL 3.421875 44.671875 \nL 3.421875 50.78125 \nL 10.203125 50.78125 \nL 10.203125 61.96875 \nL 18.40625 66.0625 \nL 18.40625 50.78125 \nL 32.234375 50.78125 \nL 32.234375 44.671875 \nL 18.40625 44.671875 \nL 18.40625 14.15625 \nQ 18.40625 6.5 23.640625 6.5 \nQ 27.15625 6.5 30.328125 9.1875 \nz\n\" id=\"IPAexGothic-116\"/>\n        <path id=\"IPAexGothic-32\"/>\n        <path d=\"M 45.609375 56.890625 \nQ 40.046875 66.546875 28.953125 66.546875 \nQ 22.703125 66.546875 18.953125 62.640625 \nQ 16.0625 59.421875 16.0625 55.21875 \nQ 16.0625 50.59375 19.78125 47.609375 \nQ 22.5625 45.515625 31 42 \nL 34.375 40.578125 \nQ 45.703125 36.03125 49.859375 30.515625 \nQ 53.46875 25.6875 53.46875 19.671875 \nQ 53.46875 10.0625 46.390625 4.5 \nQ 39.984375 -0.484375 30.171875 -0.484375 \nQ 13.765625 -0.484375 4.890625 11.96875 \nL 11.765625 17.1875 \nQ 18.796875 7.171875 30.28125 7.171875 \nQ 35.75 7.171875 39.59375 9.765625 \nQ 44.390625 13.234375 44.390625 19 \nQ 44.390625 23.484375 40.875 27 \nQ 37.109375 30.609375 27 34.46875 \nL 24.078125 35.59375 \nQ 7.078125 42.09375 7.078125 54.390625 \nQ 7.078125 62.59375 12.59375 67.921875 \nQ 18.796875 73.828125 29.109375 73.828125 \nQ 44.390625 73.828125 52.484375 61.8125 \nz\n\" id=\"IPAexGothic-83\"/>\n        <path d=\"M 16.796875 42 \nQ 23.828125 52.203125 34.46875 52.203125 \nQ 43.265625 52.203125 49.5625 45.90625 \nQ 56.890625 38.578125 56.890625 25.6875 \nQ 56.890625 13.140625 49.65625 5.8125 \nQ 43.359375 -0.484375 34.375 -0.484375 \nQ 24.515625 -0.484375 17.28125 7.765625 \nL 17.28125 -19 \nL 8.796875 -19 \nL 8.796875 50.78125 \nL 16.796875 50.78125 \nz\nM 17.28125 30.46875 \nL 17.28125 20.171875 \nQ 17.28125 14.015625 23.6875 9.375 \nQ 27.984375 6.296875 32.90625 6.296875 \nQ 38.578125 6.296875 42.578125 10.296875 \nQ 47.90625 15.578125 47.90625 25.484375 \nQ 47.90625 34.375 43.5 39.984375 \nQ 39.109375 45.3125 32.8125 45.3125 \nQ 25.875 45.3125 20.90625 38.8125 \nQ 17.28125 34.125 17.28125 30.46875 \nz\n\" id=\"IPAexGothic-112\"/>\n        <path d=\"M 49.3125 0.984375 \nL 41.75 0.984375 \nQ 39.984375 4.734375 39.546875 8.6875 \nL 39.203125 8.6875 \nQ 33.546875 -0.390625 22.3125 -0.390625 \nQ 14.59375 -0.390625 9.71875 4.5 \nQ 5.421875 8.796875 5.421875 14.984375 \nQ 5.421875 30.421875 32.03125 31.203125 \nL 38.71875 31.390625 \nL 38.71875 33.984375 \nQ 38.71875 39.203125 35.75 42.1875 \nQ 32.625 45.3125 27.734375 45.3125 \nQ 19.34375 45.3125 15.140625 37.15625 \nL 7.71875 40.578125 \nQ 14.65625 52 27.9375 52 \nQ 37.109375 52 42.046875 46.875 \nQ 46.625 42.28125 46.625 33.890625 \nL 46.625 15.578125 \nQ 46.625 6.25 49.3125 0.984375 \nz\nM 38.921875 25.390625 \nL 33.453125 25.296875 \nQ 14.109375 24.859375 14.109375 14.890625 \nQ 14.109375 11.375 16.40625 9.078125 \nQ 19.234375 6.296875 23.828125 6.296875 \nQ 30.21875 6.296875 34.90625 10.984375 \nQ 38.921875 15.140625 38.921875 21 \nz\n\" id=\"IPAexGothic-97\"/>\n        <path d=\"M 78.46875 0.984375 \nL 69.875 0.984375 \nL 69.875 32.171875 \nQ 69.875 44.828125 60.109375 44.828125 \nQ 55.46875 44.828125 51.609375 40.53125 \nQ 48.875 37.453125 47.796875 32.859375 \nL 47.796875 0.984375 \nL 39.203125 0.984375 \nL 39.203125 32.28125 \nQ 39.203125 44.828125 29.984375 44.828125 \nQ 25.09375 44.828125 21.390625 40.53125 \nQ 17.390625 36.03125 17.390625 31.890625 \nL 17.390625 0.984375 \nL 8.796875 0.984375 \nL 8.796875 50.78125 \nL 16.796875 50.78125 \nL 16.796875 42.1875 \nQ 21.734375 51.8125 31.6875 51.8125 \nQ 42.578125 51.8125 46.1875 41.359375 \nQ 51.609375 51.8125 61.765625 51.8125 \nQ 69.96875 51.8125 74.5625 46 \nQ 78.46875 41.21875 78.46875 32.375 \nz\n\" id=\"IPAexGothic-109\"/>\n       </defs>\n       <use xlink:href=\"#IPAexGothic-78\"/>\n       <use x=\"75.976562\" xlink:href=\"#IPAexGothic-111\"/>\n       <use x=\"136.376953\" xlink:href=\"#IPAexGothic-116\"/>\n       <use x=\"170.996094\" xlink:href=\"#IPAexGothic-32\"/>\n       <use x=\"197.998047\" xlink:href=\"#IPAexGothic-83\"/>\n       <use x=\"256.494141\" xlink:href=\"#IPAexGothic-112\"/>\n       <use x=\"318.603516\" xlink:href=\"#IPAexGothic-97\"/>\n       <use x=\"373.583984\" xlink:href=\"#IPAexGothic-109\"/>\n      </g>\n     </g>\n    </g>\n    <g id=\"xtick_2\">\n     <g id=\"line2d_2\">\n      <g>\n       <use style=\"stroke:#000000;stroke-width:0.8;\" x=\"237.86125\" xlink:href=\"#m20b3744654\" y=\"239.62875\"/>\n      </g>\n     </g>\n     <g id=\"text_2\">\n      <!-- Spam -->\n      <g transform=\"translate(224.726094 254.119375)scale(0.1 -0.1)\">\n       <use xlink:href=\"#IPAexGothic-83\"/>\n       <use x=\"58.496094\" xlink:href=\"#IPAexGothic-112\"/>\n       <use x=\"120.605469\" xlink:href=\"#IPAexGothic-97\"/>\n       <use x=\"175.585938\" xlink:href=\"#IPAexGothic-109\"/>\n      </g>\n     </g>\n    </g>\n    <g id=\"text_3\">\n     <!-- Predicted labels -->\n     <g transform=\"translate(133.141094 267.51)scale(0.1 -0.1)\">\n      <defs>\n       <path d=\"M 9.515625 72.40625 \nL 30.328125 72.40625 \nQ 57.625 72.40625 57.625 51.90625 \nQ 57.625 30.21875 29.78125 30.21875 \nL 18.3125 30.21875 \nL 18.3125 0.984375 \nL 9.515625 0.984375 \nz\nM 18.3125 37.203125 \nL 28.125 37.203125 \nQ 48.4375 37.203125 48.4375 51.8125 \nQ 48.4375 65.328125 29.59375 65.328125 \nL 18.3125 65.328125 \nz\n\" id=\"IPAexGothic-80\"/>\n       <path d=\"M 36.078125 51.8125 \nL 34.578125 43.265625 \nQ 32.90625 43.609375 31.59375 43.609375 \nQ 25.828125 43.609375 22.078125 38.1875 \nQ 17.390625 31.34375 17.390625 26.171875 \nL 17.390625 0.984375 \nL 8.796875 0.984375 \nL 8.796875 50.78125 \nL 16.890625 50.78125 \nL 16.5 35.984375 \nL 16.703125 35.984375 \nQ 22.21875 52.203125 32.765625 52.203125 \nQ 34.46875 52.203125 36.078125 51.8125 \nz\n\" id=\"IPAexGothic-114\"/>\n       <path d=\"M 13.484375 24.90625 \nQ 13.921875 16.265625 18.890625 11.28125 \nQ 23.96875 6.203125 31.203125 6.203125 \nQ 40.71875 6.203125 46.296875 15.09375 \nL 51.90625 11.375 \nQ 44.828125 -0.484375 30.171875 -0.484375 \nQ 19.09375 -0.484375 11.96875 6.59375 \nQ 4.78125 13.8125 4.78125 25.640625 \nQ 4.78125 38.1875 12.3125 45.703125 \nQ 19 52.390625 29 52.390625 \nQ 38.421875 52.390625 44.78125 46.1875 \nQ 51.90625 38.96875 51.90625 26.90625 \nL 51.90625 24.90625 \nz\nM 43.0625 31.203125 \nQ 42.328125 37.984375 38.28125 41.890625 \nQ 34.28125 45.90625 28.8125 45.90625 \nQ 22.46875 45.90625 17.96875 40.484375 \nQ 14.890625 36.8125 13.96875 31.203125 \nz\n\" id=\"IPAexGothic-101\"/>\n       <path d=\"M 52.984375 0.984375 \nL 45.171875 0.984375 \nL 45.171875 9.671875 \nQ 38.140625 -0.484375 27.390625 -0.484375 \nQ 18.453125 -0.484375 12.3125 5.8125 \nQ 4.890625 13.1875 4.890625 25.984375 \nQ 4.890625 38.53125 12.0625 45.90625 \nQ 18.265625 52.203125 27.390625 52.203125 \nQ 37.25 52.203125 44.484375 43.890625 \nL 44.484375 74.90625 \nL 52.984375 74.90625 \nz\nM 44.484375 20.359375 \nL 44.484375 32.765625 \nQ 44.484375 37.703125 38.375 42.28125 \nQ 34.078125 45.40625 28.953125 45.40625 \nQ 23.1875 45.40625 19.1875 41.40625 \nQ 13.875 36.078125 13.875 26.21875 \nQ 13.875 17.328125 18.265625 11.71875 \nQ 22.515625 6.390625 28.859375 6.390625 \nQ 36.28125 6.390625 41.5 13.671875 \nQ 44.484375 17.71875 44.484375 20.359375 \nz\n\" id=\"IPAexGothic-100\"/>\n       <path d=\"M 18.40625 61.375 \nL 8.59375 61.375 \nL 8.59375 71.390625 \nL 18.40625 71.390625 \nz\nM 17.78125 0.984375 \nL 9.1875 0.984375 \nL 9.1875 50.78125 \nL 17.78125 50.78125 \nz\n\" id=\"IPAexGothic-105\"/>\n       <path d=\"M 51.078125 12.25 \nQ 44.28125 -0.484375 29.6875 -0.484375 \nQ 19.1875 -0.484375 12.3125 6.390625 \nQ 4.890625 13.921875 4.890625 25.984375 \nQ 4.890625 37.9375 12.3125 45.515625 \nQ 19.09375 52.296875 29.390625 52.296875 \nQ 43.953125 52.296875 50.09375 39.703125 \nL 43.171875 36.078125 \nQ 38.8125 45.3125 29.6875 45.3125 \nQ 23.6875 45.3125 19.28125 40.921875 \nQ 13.765625 35.40625 13.765625 25.78125 \nQ 13.765625 16.703125 19.09375 11.375 \nQ 23.78125 6.6875 30.5625 6.6875 \nQ 39.796875 6.6875 44.484375 15.875 \nz\n\" id=\"IPAexGothic-99\"/>\n       <path d=\"M 17.671875 0.984375 \nL 9.078125 0.984375 \nL 9.078125 74.90625 \nL 17.671875 74.90625 \nz\n\" id=\"IPAexGothic-108\"/>\n       <path d=\"M 17.578125 42.671875 \nQ 24.21875 52.203125 34.671875 52.203125 \nQ 43.5625 52.203125 49.859375 45.90625 \nQ 57.171875 38.578125 57.171875 25.6875 \nQ 57.171875 13.09375 49.859375 5.8125 \nQ 43.5625 -0.484375 34.46875 -0.484375 \nQ 24.359375 -0.484375 17 8.0625 \nL 15.765625 0.6875 \nL 9.078125 0.6875 \nL 9.078125 74.90625 \nL 17.578125 74.90625 \nz\nM 17.578125 31.203125 \nL 17.578125 19.578125 \nQ 17.578125 13.875 23.875 9.375 \nQ 28.171875 6.296875 33.109375 6.296875 \nQ 38.875 6.296875 42.875 10.296875 \nQ 48.1875 15.765625 48.1875 25.484375 \nQ 48.1875 34.28125 43.796875 39.890625 \nQ 39.453125 45.3125 33.203125 45.3125 \nQ 27.484375 45.3125 22.46875 40.28125 \nQ 17.578125 35.40625 17.578125 31.203125 \nz\n\" id=\"IPAexGothic-98\"/>\n       <path d=\"M 34.90625 39.796875 \nQ 30.28125 45.796875 23.1875 45.796875 \nQ 13.921875 45.796875 13.921875 38.671875 \nQ 13.921875 33.640625 23.921875 30.375 \nL 27.203125 29.296875 \nQ 41.40625 24.65625 41.40625 13.96875 \nQ 41.40625 6.78125 35.5 2.6875 \nQ 30.8125 -0.484375 23.390625 -0.484375 \nQ 11.96875 -0.484375 4 7.859375 \nL 9.421875 12.796875 \nQ 15.578125 6.203125 23.6875 6.203125 \nQ 33.296875 6.203125 33.296875 13.671875 \nQ 33.296875 19.34375 22.703125 23.09375 \nL 19.28125 24.265625 \nQ 5.90625 28.953125 5.90625 37.984375 \nQ 5.90625 43.703125 9.8125 47.609375 \nQ 14.5 52.296875 22.703125 52.296875 \nQ 33.6875 52.296875 40.71875 44.671875 \nz\n\" id=\"IPAexGothic-115\"/>\n      </defs>\n      <use xlink:href=\"#IPAexGothic-80\"/>\n      <use x=\"62.109375\" xlink:href=\"#IPAexGothic-114\"/>\n      <use x=\"99.121094\" xlink:href=\"#IPAexGothic-101\"/>\n      <use x=\"156.005859\" xlink:href=\"#IPAexGothic-100\"/>\n      <use x=\"218.408203\" xlink:href=\"#IPAexGothic-105\"/>\n      <use x=\"245.410156\" xlink:href=\"#IPAexGothic-99\"/>\n      <use x=\"299.804688\" xlink:href=\"#IPAexGothic-116\"/>\n      <use x=\"334.423828\" xlink:href=\"#IPAexGothic-101\"/>\n      <use x=\"391.308594\" xlink:href=\"#IPAexGothic-100\"/>\n      <use x=\"453.710938\" xlink:href=\"#IPAexGothic-32\"/>\n      <use x=\"480.712891\" xlink:href=\"#IPAexGothic-108\"/>\n      <use x=\"507.714844\" xlink:href=\"#IPAexGothic-97\"/>\n      <use x=\"562.695312\" xlink:href=\"#IPAexGothic-98\"/>\n      <use x=\"625.097656\" xlink:href=\"#IPAexGothic-101\"/>\n      <use x=\"681.982422\" xlink:href=\"#IPAexGothic-108\"/>\n      <use x=\"708.984375\" xlink:href=\"#IPAexGothic-115\"/>\n     </g>\n    </g>\n   </g>\n   <g id=\"matplotlib.axis_2\">\n    <g id=\"ytick_1\">\n     <g id=\"line2d_3\">\n      <defs>\n       <path d=\"M 0 0 \nL -3.5 0 \n\" id=\"m977c9b2240\" style=\"stroke:#000000;stroke-width:0.8;\"/>\n      </defs>\n      <g>\n       <use style=\"stroke:#000000;stroke-width:0.8;\" x=\"36.98125\" xlink:href=\"#m977c9b2240\" y=\"76.54875\"/>\n      </g>\n     </g>\n     <g id=\"text_4\">\n      <!-- Not Spam -->\n      <g transform=\"translate(28.08125 118.875313)rotate(-90)scale(0.1 -0.1)\">\n       <use xlink:href=\"#IPAexGothic-78\"/>\n       <use x=\"75.976562\" xlink:href=\"#IPAexGothic-111\"/>\n       <use x=\"136.376953\" xlink:href=\"#IPAexGothic-116\"/>\n       <use x=\"170.996094\" xlink:href=\"#IPAexGothic-32\"/>\n       <use x=\"197.998047\" xlink:href=\"#IPAexGothic-83\"/>\n       <use x=\"256.494141\" xlink:href=\"#IPAexGothic-112\"/>\n       <use x=\"318.603516\" xlink:href=\"#IPAexGothic-97\"/>\n       <use x=\"373.583984\" xlink:href=\"#IPAexGothic-109\"/>\n      </g>\n     </g>\n    </g>\n    <g id=\"ytick_2\">\n     <g id=\"line2d_4\">\n      <g>\n       <use style=\"stroke:#000000;stroke-width:0.8;\" x=\"36.98125\" xlink:href=\"#m977c9b2240\" y=\"185.26875\"/>\n      </g>\n     </g>\n     <g id=\"text_5\">\n      <!-- Spam -->\n      <g transform=\"translate(28.08125 207.79375)rotate(-90)scale(0.1 -0.1)\">\n       <use xlink:href=\"#IPAexGothic-83\"/>\n       <use x=\"58.496094\" xlink:href=\"#IPAexGothic-112\"/>\n       <use x=\"120.605469\" xlink:href=\"#IPAexGothic-97\"/>\n       <use x=\"175.585938\" xlink:href=\"#IPAexGothic-109\"/>\n      </g>\n     </g>\n    </g>\n    <g id=\"text_6\">\n     <!-- True labels -->\n     <g transform=\"translate(14.690625 156.693125)rotate(-90)scale(0.1 -0.1)\">\n      <defs>\n       <path d=\"M 60.40625 64.703125 \nL 33.984375 64.703125 \nL 33.984375 0.984375 \nL 25.09375 0.984375 \nL 25.09375 64.703125 \nL -0.484375 64.703125 \nL -0.484375 72.40625 \nL 60.40625 72.40625 \nz\n\" id=\"IPAexGothic-84\"/>\n       <path d=\"M 51.3125 0.984375 \nL 43.3125 0.984375 \nL 43.3125 10.0625 \nQ 35.9375 0 25.390625 0 \nQ 16.75 0 11.921875 5.859375 \nQ 8.109375 10.59375 8.109375 19.390625 \nL 8.109375 50.78125 \nL 16.703125 50.78125 \nL 16.703125 19.671875 \nQ 16.703125 7.28125 27.09375 7.28125 \nQ 37.59375 7.28125 42.71875 20.171875 \nL 42.71875 50.78125 \nL 51.3125 50.78125 \nz\n\" id=\"IPAexGothic-117\"/>\n      </defs>\n      <use xlink:href=\"#IPAexGothic-84\"/>\n      <use x=\"59.912109\" xlink:href=\"#IPAexGothic-114\"/>\n      <use x=\"96.923828\" xlink:href=\"#IPAexGothic-117\"/>\n      <use x=\"157.324219\" xlink:href=\"#IPAexGothic-101\"/>\n      <use x=\"214.208984\" xlink:href=\"#IPAexGothic-32\"/>\n      <use x=\"241.210938\" xlink:href=\"#IPAexGothic-108\"/>\n      <use x=\"268.212891\" xlink:href=\"#IPAexGothic-97\"/>\n      <use x=\"323.193359\" xlink:href=\"#IPAexGothic-98\"/>\n      <use x=\"385.595703\" xlink:href=\"#IPAexGothic-101\"/>\n      <use x=\"442.480469\" xlink:href=\"#IPAexGothic-108\"/>\n      <use x=\"469.482422\" xlink:href=\"#IPAexGothic-115\"/>\n     </g>\n    </g>\n   </g>\n   <g id=\"text_7\">\n    <!-- 952 -->\n    <g style=\"fill:#ffffff;\" transform=\"translate(94.493594 79.344062)scale(0.1 -0.1)\">\n     <defs>\n      <path d=\"M 46.625 36.8125 \nQ 39.75 26.8125 28.328125 26.8125 \nQ 19.578125 26.8125 13.234375 32.125 \nQ 5.71875 38.421875 5.71875 49.421875 \nQ 5.71875 59.578125 12.015625 66.65625 \nQ 18.453125 73.828125 29.203125 73.828125 \nQ 43.75 73.828125 50.640625 61.71875 \nQ 55.609375 52.78125 55.609375 38.625 \nQ 55.609375 19.53125 47.515625 9.1875 \nQ 39.890625 -0.484375 27.640625 -0.484375 \nQ 13.421875 -0.484375 6.109375 10.984375 \nL 13.328125 14.890625 \nQ 18.0625 6.6875 27.390625 6.6875 \nQ 45.65625 6.6875 47.015625 36.8125 \nz\nM 29.5 66.84375 \nQ 22.65625 66.84375 18.3125 61.71875 \nQ 14.40625 57.078125 14.40625 50 \nQ 14.40625 42.828125 18.109375 38.71875 \nQ 22.40625 33.796875 29.78125 33.796875 \nQ 37.984375 33.796875 42.625 40.1875 \nQ 45.703125 44.484375 45.703125 49.515625 \nQ 45.703125 55.515625 42.09375 60.359375 \nQ 37.109375 66.84375 29.5 66.84375 \nz\n\" id=\"IPAexGothic-57\"/>\n      <path d=\"M 18.40625 40.671875 \nQ 25.53125 46.296875 33.9375 46.296875 \nQ 44 46.296875 50.640625 39.5 \nQ 56.84375 33.015625 56.84375 23.390625 \nQ 56.84375 14.65625 51.515625 8.015625 \nQ 44.828125 -0.484375 31.734375 -0.484375 \nQ 14.984375 -0.484375 7.328125 12.25 \nL 14.65625 16.0625 \nQ 20.453125 6.78125 31.453125 6.78125 \nQ 38.53125 6.78125 43.265625 11.1875 \nQ 48.140625 15.828125 48.140625 23.484375 \nQ 48.140625 30.71875 43.84375 35.015625 \nQ 39.359375 39.5 32.125 39.5 \nQ 21.96875 39.5 16.75 31.6875 \nL 9.234375 32.671875 \nL 13.8125 72.40625 \nL 53.21875 72.40625 \nL 53.21875 64.890625 \nL 20.953125 64.890625 \nL 17.71875 40.671875 \nz\n\" id=\"IPAexGothic-53\"/>\n      <path d=\"M 57.171875 0.984375 \nL 6.984375 0.984375 \nL 6.984375 9.28125 \nQ 12.890625 23.046875 29.59375 34.421875 \nL 32.375 36.28125 \nQ 40.921875 42.140625 43.609375 45.40625 \nQ 46.6875 49.265625 46.6875 53.8125 \nQ 46.6875 58.9375 43.0625 62.546875 \nQ 39.0625 66.546875 32.5625 66.546875 \nQ 19.53125 66.546875 15.484375 52 \nL 7.765625 54.78125 \nQ 13.328125 73.828125 33.0625 73.828125 \nQ 43.84375 73.828125 50.25 67.4375 \nQ 55.859375 61.671875 55.859375 53.515625 \nQ 55.859375 47.46875 52.25 42.53125 \nQ 48.921875 37.75 36.96875 30.28125 \nL 34.859375 29 \nQ 19.625 19.578125 15.28125 8.890625 \nL 57.171875 8.890625 \nz\n\" id=\"IPAexGothic-50\"/>\n     </defs>\n     <use xlink:href=\"#IPAexGothic-57\"/>\n     <use x=\"62.988281\" xlink:href=\"#IPAexGothic-53\"/>\n     <use x=\"125.976562\" xlink:href=\"#IPAexGothic-50\"/>\n    </g>\n   </g>\n   <g id=\"text_8\">\n    <!-- 3 -->\n    <g style=\"fill:#262626;\" transform=\"translate(234.712031 79.344062)scale(0.1 -0.1)\">\n     <defs>\n      <path d=\"M 37.203125 37.796875 \nQ 54.78125 34.625 54.78125 19.96875 \nQ 54.78125 11.1875 48.875 5.5625 \nQ 42.328125 -0.484375 30.375 -0.484375 \nQ 12.453125 -0.484375 4.5 13.765625 \nL 11.8125 17.671875 \nQ 17.328125 6.890625 30.28125 6.890625 \nQ 37.890625 6.890625 42.09375 10.796875 \nQ 46.09375 14.5 46.09375 20.171875 \nQ 46.09375 26.859375 40.09375 30.90625 \nQ 34.625 34.578125 25.6875 34.578125 \nL 21.296875 34.578125 \nL 21.296875 41.703125 \nL 25.875 41.703125 \nQ 34.859375 41.703125 39.59375 45.125 \nQ 44.671875 48.734375 44.671875 54.828125 \nQ 44.671875 61.46875 38.96875 64.65625 \nQ 35.296875 66.84375 30.171875 66.84375 \nQ 19.34375 66.84375 14.109375 55.90625 \nL 6.78125 59.421875 \nQ 14.015625 73.828125 30.28125 73.828125 \nQ 40.578125 73.828125 46.96875 68.65625 \nQ 53.375 63.578125 53.375 55.21875 \nQ 53.375 47.3125 47.171875 42.28125 \nQ 43.171875 39.0625 37.203125 38.1875 \nz\n\" id=\"IPAexGothic-51\"/>\n     </defs>\n     <use xlink:href=\"#IPAexGothic-51\"/>\n    </g>\n   </g>\n   <g id=\"text_9\">\n    <!-- 10 -->\n    <g style=\"fill:#262626;\" transform=\"translate(97.642813 188.064062)scale(0.1 -0.1)\">\n     <defs>\n      <path d=\"M 38.484375 0.984375 \nL 29.6875 0.984375 \nL 29.6875 64.109375 \nQ 21.4375 61.28125 12.3125 59.328125 \nL 10.6875 66.109375 \nQ 23.734375 69.390625 32.90625 73.921875 \nL 38.484375 73.921875 \nz\n\" id=\"IPAexGothic-49\"/>\n      <path d=\"M 31.84375 73.828125 \nQ 45.015625 73.828125 52.09375 61.625 \nQ 57.71875 51.953125 57.71875 36.625 \nQ 57.71875 21.4375 52.09375 11.578125 \nQ 45.125 -0.484375 31.5 -0.484375 \nQ 17.921875 -0.484375 10.9375 11.578125 \nQ 5.328125 21.4375 5.328125 36.71875 \nQ 5.328125 58.015625 15.625 67.71875 \nQ 22.171875 73.828125 31.84375 73.828125 \nz\nM 31.5 66.65625 \nQ 23.6875 66.65625 19.1875 58.734375 \nQ 14.59375 50.734375 14.59375 36.625 \nQ 14.59375 22.75 19.09375 14.796875 \nQ 23.640625 6.984375 31.5 6.984375 \nQ 40.921875 6.984375 45.453125 18.015625 \nQ 48.4375 25.34375 48.4375 37.109375 \nQ 48.4375 50.875 43.84375 58.734375 \nQ 39.203125 66.65625 31.5 66.65625 \nz\n\" id=\"IPAexGothic-48\"/>\n     </defs>\n     <use xlink:href=\"#IPAexGothic-49\"/>\n     <use x=\"62.988281\" xlink:href=\"#IPAexGothic-48\"/>\n    </g>\n   </g>\n   <g id=\"text_10\">\n    <!-- 150 -->\n    <g style=\"fill:#262626;\" transform=\"translate(228.413594 188.064062)scale(0.1 -0.1)\">\n     <use xlink:href=\"#IPAexGothic-49\"/>\n     <use x=\"62.988281\" xlink:href=\"#IPAexGothic-53\"/>\n     <use x=\"125.976562\" xlink:href=\"#IPAexGothic-48\"/>\n    </g>\n   </g>\n   <g id=\"text_11\">\n    <!-- Confusion Matrix -->\n    <g transform=\"translate(123.019375 16.18875)scale(0.12 -0.12)\">\n     <defs>\n      <path d=\"M 68.015625 17 \nQ 65.328125 10.84375 60.296875 6.6875 \nQ 51.765625 -0.484375 39.984375 -0.484375 \nQ 24.8125 -0.484375 14.984375 10.203125 \nQ 5.90625 20.21875 5.90625 36.421875 \nQ 5.90625 53.21875 15.828125 63.71875 \nQ 25.296875 73.828125 39.59375 73.828125 \nQ 59.578125 73.828125 67.53125 56.6875 \nL 59.515625 52.984375 \nQ 53.515625 66.21875 39.703125 66.21875 \nQ 29.546875 66.21875 22.703125 58.5 \nQ 15.53125 50.25 15.53125 36.28125 \nQ 15.53125 24.21875 21.625 16.5 \nQ 28.765625 7.375 40.046875 7.375 \nQ 54 7.375 60.59375 20.609375 \nz\n\" id=\"IPAexGothic-67\"/>\n      <path d=\"M 52 0.984375 \nL 43.40625 0.984375 \nL 43.40625 31.890625 \nQ 43.40625 44.578125 32.90625 44.578125 \nQ 22.3125 44.578125 17.390625 31.890625 \nL 17.390625 0.984375 \nL 8.796875 0.984375 \nL 8.796875 50.78125 \nL 16.796875 50.78125 \nL 16.796875 41.796875 \nQ 23.828125 51.8125 34.71875 51.8125 \nQ 52 51.8125 52 32.375 \nz\n\" id=\"IPAexGothic-110\"/>\n      <path d=\"M 38.375 72.21875 \nL 34.8125 66.3125 \nQ 31.109375 69.09375 27.203125 69.09375 \nQ 18.5 69.09375 18.5 57.375 \nL 18.5 50.78125 \nL 32.078125 50.78125 \nL 32.078125 44.671875 \nL 18.5 44.671875 \nL 18.5 0.984375 \nL 10.015625 0.984375 \nL 10.015625 44.671875 \nL 1.90625 44.671875 \nL 1.90625 50.78125 \nL 10.015625 50.78125 \nL 10.015625 57.171875 \nQ 10.015625 65.4375 13.921875 70.0625 \nQ 18.75 75.6875 26.703125 75.6875 \nQ 33.0625 75.6875 38.375 72.21875 \nz\n\" id=\"IPAexGothic-102\"/>\n      <path d=\"M 80.421875 0.984375 \nL 71.828125 0.984375 \nL 71.828125 39.59375 \nQ 71.828125 51.265625 72.40625 64.59375 \nL 72.015625 64.59375 \nQ 68.0625 53.265625 63.53125 41.796875 \nL 47.90625 3.265625 \nL 41.40625 3.265625 \nL 25.640625 42.578125 \nQ 20.75 54.78125 17.625 64.703125 \nL 17.234375 64.703125 \nQ 17.828125 48.921875 17.828125 39.890625 \nL 17.828125 0.984375 \nL 9.515625 0.984375 \nL 9.515625 72.40625 \nL 22.125 72.40625 \nL 39.109375 30.375 \nQ 42.140625 23 44.828125 14.15625 \nL 45.125 14.15625 \nQ 47.3125 22.125 50.53125 30.171875 \nL 67.4375 72.40625 \nL 80.421875 72.40625 \nz\n\" id=\"IPAexGothic-77\"/>\n      <path d=\"M 47.65625 0.984375 \nL 37.796875 0.984375 \nL 24.171875 20.90625 \nL 10.796875 0.984375 \nL 0.875 0.984375 \nL 19.484375 26.171875 \nL 1.65625 50.78125 \nL 11.671875 50.78125 \nL 24.65625 31.5 \nL 37.703125 50.78125 \nL 47.171875 50.78125 \nL 29.296875 26.265625 \nz\n\" id=\"IPAexGothic-120\"/>\n     </defs>\n     <use xlink:href=\"#IPAexGothic-67\"/>\n     <use x=\"72.509766\" xlink:href=\"#IPAexGothic-111\"/>\n     <use x=\"132.910156\" xlink:href=\"#IPAexGothic-110\"/>\n     <use x=\"193.310547\" xlink:href=\"#IPAexGothic-102\"/>\n     <use x=\"223.925781\" xlink:href=\"#IPAexGothic-117\"/>\n     <use x=\"284.326172\" xlink:href=\"#IPAexGothic-115\"/>\n     <use x=\"330.517578\" xlink:href=\"#IPAexGothic-105\"/>\n     <use x=\"357.519531\" xlink:href=\"#IPAexGothic-111\"/>\n     <use x=\"417.919922\" xlink:href=\"#IPAexGothic-110\"/>\n     <use x=\"478.320312\" xlink:href=\"#IPAexGothic-32\"/>\n     <use x=\"505.322266\" xlink:href=\"#IPAexGothic-77\"/>\n     <use x=\"595.507812\" xlink:href=\"#IPAexGothic-97\"/>\n     <use x=\"650.488281\" xlink:href=\"#IPAexGothic-116\"/>\n     <use x=\"685.107422\" xlink:href=\"#IPAexGothic-114\"/>\n     <use x=\"722.119141\" xlink:href=\"#IPAexGothic-105\"/>\n     <use x=\"749.121094\" xlink:href=\"#IPAexGothic-120\"/>\n    </g>\n   </g>\n  </g>\n  <g id=\"axes_2\">\n   <g id=\"patch_3\">\n    <path clip-path=\"url(#paea55c73a9)\" d=\"M 321.56125 239.62875 \nL 321.56125 238.779375 \nL 321.56125 23.038125 \nL 321.56125 22.18875 \nL 332.43325 22.18875 \nL 332.43325 23.038125 \nL 332.43325 238.779375 \nL 332.43325 239.62875 \nz\n\" style=\"fill:#ffffff;stroke:#ffffff;stroke-linejoin:miter;stroke-width:0.01;\"/>\n   </g>\n   <image height=\"217\" id=\"imaged459ad7b56\" transform=\"scale(1 -1)translate(0 -217)\" width=\"10\" x=\"322\" xlink:href=\"data:image/png;base64,\niVBORw0KGgoAAAANSUhEUgAAAAoAAADZCAYAAAAZmKE8AAABI0lEQVR4nO2YQQ4DIQwD04r/P7eHSkB/UA3SZCMQe46cGBsD+/p85wzwtRmoLhqsiwbrorEJI9qElRmt6fJQxDcri2gDs9aVWdAazjgoot/aX56jjOvva2zcykjx3bOBMte4fwuvcZ3Whcrgc8Y/uXxlOt+FZaYYemuudeUNAM8IERdue3ZrHvYJxoWIGaxhIVamw6hYiJTKXQgLM1jbiJyMvhUSTi7fuDqibzPfFNy4DDAjSLl7KBm/dUKG4xk567KQwsuD/VhoM/8B6SdupdZ69vitE9wzWEJWzpjB+iAJ+Z45iXWHF58tyHDEBAnLCvGvpoWQ0v9y+U97SqZwxh0kLNT6KD8GLhydImKH4xkxot56C9Z1ZOiBdCV8GpGzllv/AGoA3hEkSMY6AAAAAElFTkSuQmCC\" y=\"-22\"/>\n   <g id=\"matplotlib.axis_3\"/>\n   <g id=\"matplotlib.axis_4\">\n    <g id=\"ytick_3\">\n     <g id=\"line2d_5\">\n      <defs>\n       <path d=\"M 0 0 \nL 3.5 0 \n\" id=\"m63253b37c5\" style=\"stroke:#000000;stroke-width:0.8;\"/>\n      </defs>\n      <g>\n       <use style=\"stroke:#000000;stroke-width:0.8;\" x=\"332.43325\" xlink:href=\"#m63253b37c5\" y=\"194.491047\"/>\n      </g>\n     </g>\n     <g id=\"text_12\">\n      <!-- 200 -->\n      <g transform=\"translate(339.43325 198.23636)scale(0.1 -0.1)\">\n       <use xlink:href=\"#IPAexGothic-50\"/>\n       <use x=\"62.988281\" xlink:href=\"#IPAexGothic-48\"/>\n       <use x=\"125.976562\" xlink:href=\"#IPAexGothic-48\"/>\n      </g>\n     </g>\n    </g>\n    <g id=\"ytick_4\">\n     <g id=\"line2d_6\">\n      <g>\n       <use style=\"stroke:#000000;stroke-width:0.8;\" x=\"332.43325\" xlink:href=\"#m63253b37c5\" y=\"148.665968\"/>\n      </g>\n     </g>\n     <g id=\"text_13\">\n      <!-- 400 -->\n      <g transform=\"translate(339.43325 152.411281)scale(0.1 -0.1)\">\n       <defs>\n        <path d=\"M 59.578125 18.109375 \nL 47.796875 18.109375 \nL 47.796875 0.984375 \nL 39.796875 0.984375 \nL 39.796875 18.109375 \nL 3.078125 18.109375 \nL 3.078125 26.125 \nL 38.375 73.09375 \nL 47.796875 73.09375 \nL 47.796875 25.53125 \nL 59.578125 25.53125 \nz\nM 40.28125 64.203125 \nL 39.984375 64.203125 \nQ 35.59375 57.125 31.296875 51.3125 \nL 11.859375 25.53125 \nL 39.796875 25.53125 \nL 39.796875 49.125 \nQ 39.796875 54.390625 40.28125 64.203125 \nz\n\" id=\"IPAexGothic-52\"/>\n       </defs>\n       <use xlink:href=\"#IPAexGothic-52\"/>\n       <use x=\"62.988281\" xlink:href=\"#IPAexGothic-48\"/>\n       <use x=\"125.976562\" xlink:href=\"#IPAexGothic-48\"/>\n      </g>\n     </g>\n    </g>\n    <g id=\"ytick_5\">\n     <g id=\"line2d_7\">\n      <g>\n       <use style=\"stroke:#000000;stroke-width:0.8;\" x=\"332.43325\" xlink:href=\"#m63253b37c5\" y=\"102.840889\"/>\n      </g>\n     </g>\n     <g id=\"text_14\">\n      <!-- 600 -->\n      <g transform=\"translate(339.43325 106.586202)scale(0.1 -0.1)\">\n       <defs>\n        <path d=\"M 16.5 36.375 \nQ 23.578125 46.578125 34.90625 46.578125 \nQ 45.40625 46.578125 51.8125 39.265625 \nQ 57.421875 32.90625 57.421875 23.78125 \nQ 57.421875 13.8125 51.125 6.78125 \nQ 44.578125 -0.484375 34.03125 -0.484375 \nQ 21.484375 -0.484375 14.40625 9.078125 \nQ 7.515625 18.40625 7.515625 34.8125 \nQ 7.515625 53.515625 15.828125 64.203125 \nQ 23.34375 73.828125 35.5 73.828125 \nQ 49.859375 73.828125 56.390625 62.890625 \nL 49.21875 58.984375 \nQ 45.21875 66.65625 35.9375 66.65625 \nQ 17.484375 66.65625 16.109375 36.375 \nz\nM 33.453125 39.796875 \nQ 26.3125 39.796875 21.625 34.46875 \nQ 17.4375 29.6875 17.4375 24.078125 \nQ 17.4375 18.0625 21.140625 13.1875 \nQ 26.125 6.6875 33.734375 6.6875 \nQ 41.703125 6.6875 45.953125 13.1875 \nQ 48.828125 17.625 48.828125 23.484375 \nQ 48.828125 30.375 45.015625 34.8125 \nQ 40.625 39.796875 33.453125 39.796875 \nz\n\" id=\"IPAexGothic-54\"/>\n       </defs>\n       <use xlink:href=\"#IPAexGothic-54\"/>\n       <use x=\"62.988281\" xlink:href=\"#IPAexGothic-48\"/>\n       <use x=\"125.976562\" xlink:href=\"#IPAexGothic-48\"/>\n      </g>\n     </g>\n    </g>\n    <g id=\"ytick_6\">\n     <g id=\"line2d_8\">\n      <g>\n       <use style=\"stroke:#000000;stroke-width:0.8;\" x=\"332.43325\" xlink:href=\"#m63253b37c5\" y=\"57.01581\"/>\n      </g>\n     </g>\n     <g id=\"text_15\">\n      <!-- 800 -->\n      <g transform=\"translate(339.43325 60.761123)scale(0.1 -0.1)\">\n       <defs>\n        <path d=\"M 39.703125 37.890625 \nQ 57.8125 31.734375 57.8125 18.703125 \nQ 57.8125 8.453125 48.4375 3.078125 \nQ 41.609375 -0.875 31.5 -0.875 \nQ 21.34375 -0.875 14.5 3.078125 \nQ 5.421875 8.296875 5.421875 18.40625 \nQ 5.421875 31.0625 22.015625 37.203125 \nL 22.015625 37.5 \nQ 7.515625 42.71875 7.515625 54.828125 \nQ 7.515625 64.0625 15.328125 69.625 \nQ 21.96875 74.3125 31.546875 74.3125 \nQ 42.234375 74.3125 48.921875 68.796875 \nQ 55.515625 63.578125 55.515625 55.71875 \nQ 55.515625 42.28125 39.703125 38.1875 \nz\nM 31.59375 41.015625 \nQ 46.828125 44.625 46.828125 55.125 \nQ 46.828125 61.1875 41.796875 64.84375 \nQ 37.703125 67.921875 31.5 67.921875 \nQ 25.09375 67.921875 20.796875 64.5 \nQ 16.40625 60.890625 16.40625 55.03125 \nQ 16.40625 49.21875 21.09375 45.703125 \nQ 23.34375 43.890625 26.90625 42.53125 \nQ 31 40.875 31.59375 41.015625 \nz\nM 30.90625 34.515625 \nQ 14.40625 30.171875 14.40625 19 \nQ 14.40625 12.109375 20.515625 8.6875 \nQ 25.09375 6.109375 31.390625 6.109375 \nQ 40.234375 6.109375 45.015625 10.890625 \nQ 48.53125 14.40625 48.53125 19.53125 \nQ 48.53125 24.90625 43.65625 28.90625 \nQ 40.765625 31.15625 36.71875 32.8125 \nQ 31.984375 34.71875 30.90625 34.515625 \nz\n\" id=\"IPAexGothic-56\"/>\n       </defs>\n       <use xlink:href=\"#IPAexGothic-56\"/>\n       <use x=\"62.988281\" xlink:href=\"#IPAexGothic-48\"/>\n       <use x=\"125.976562\" xlink:href=\"#IPAexGothic-48\"/>\n      </g>\n     </g>\n    </g>\n   </g>\n   <g id=\"patch_4\">\n    <path d=\"M 321.56125 239.62875 \nL 321.56125 238.779375 \nL 321.56125 23.038125 \nL 321.56125 22.18875 \nL 332.43325 22.18875 \nL 332.43325 23.038125 \nL 332.43325 238.779375 \nL 332.43325 239.62875 \nz\n\" style=\"fill:none;\"/>\n   </g>\n  </g>\n </g>\n <defs>\n  <clipPath id=\"p056620d2aa\">\n   <rect height=\"217.44\" width=\"267.84\" x=\"36.98125\" y=\"22.18875\"/>\n  </clipPath>\n  <clipPath id=\"paea55c73a9\">\n   <rect height=\"217.44\" width=\"10.872\" x=\"321.56125\" y=\"22.18875\"/>\n  </clipPath>\n </defs>\n</svg>\n",
      "image/png": "[encoded data removed]"
     },
     "metadata": {
      "needs_background": "light"
     }
    }
   ],
   "source": [
    "import seaborn as sns\n",
    "import matplotlib.pyplot as plt\n",
    "ax= plt.subplot()\n",
    "\n",
    "#annot=True to annotate cells\n",
    "sns.heatmap(cf_matrix, annot=True, ax = ax,cmap='Blues',fmt='');\n",
    "\n",
    "# labels, title and ticks\n",
    "ax.set_xlabel('Predicted labels');\n",
    "ax.set_ylabel('True labels');\n",
    "ax.set_title('Confusion Matrix');\n",
    "ax.xaxis.set_ticklabels(['Not Spam', 'Spam']); ax.yaxis.set_ticklabels(['Not Spam', 'Spam']);"
   ]
  },
  {
   "source": [],
   "cell_type": "markdown",
   "metadata": {}
  }
 ]
}