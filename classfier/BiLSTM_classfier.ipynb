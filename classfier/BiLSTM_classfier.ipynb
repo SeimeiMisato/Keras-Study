{
 "metadata": {
  "language_info": {
   "codemirror_mode": {
    "name": "ipython",
    "version": 3
   },
   "file_extension": ".py",
   "mimetype": "text/x-python",
   "name": "python",
   "nbconvert_exporter": "python",
   "pygments_lexer": "ipython3",
   "version": 3
  },
  "orig_nbformat": 2
 },
 "nbformat": 4,
 "nbformat_minor": 2,
 "cells": [
  {
   "source": [
    "`Transformer_clasfier.ipynb` と `LSTM_classfier.ipynb` 、[Kerasのドキュメント](https://keras.io/ja/) をもとに`BiLSTM`を使った深層スパム分類モデルを作ってください。"
   ],
   "cell_type": "markdown",
   "metadata": {}
  },
  {
   "cell_type": "code",
   "execution_count": null,
   "metadata": {},
   "outputs": [],
   "source": [
    "import pandas as pd\n",
    "\n",
    "df = pd.read_csv('./SMSSpamCollection', sep='\\t', header=None)\n",
    "df.rename({0: 'label', 1: 'text'}, axis=1, inplace=True)\n",
    "df['category'] = df.apply(lambda r: 1 if r['label'] == 'spam' else 0, axis=1)\n",
    "\n",
    "df.head()"
   ]
  }
 ]
}